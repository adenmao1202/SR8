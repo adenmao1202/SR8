{
 "cells": [
  {
   "cell_type": "code",
   "execution_count": 1,
   "metadata": {},
   "outputs": [],
   "source": [
    "import pandas as pd\n",
    "import numpy as np\n",
    "import os\n",
    "import datetime\n",
    "import warnings \n",
    "warnings.filterwarnings(\"ignore\", category=DeprecationWarning)"
   ]
  },
  {
   "cell_type": "code",
   "execution_count": 2,
   "metadata": {},
   "outputs": [
    {
     "data": {
      "text/html": [
       "<div>\n",
       "<style scoped>\n",
       "    .dataframe tbody tr th:only-of-type {\n",
       "        vertical-align: middle;\n",
       "    }\n",
       "\n",
       "    .dataframe tbody tr th {\n",
       "        vertical-align: top;\n",
       "    }\n",
       "\n",
       "    .dataframe thead th {\n",
       "        text-align: right;\n",
       "    }\n",
       "</style>\n",
       "<table border=\"1\" class=\"dataframe\">\n",
       "  <thead>\n",
       "    <tr style=\"text-align: right;\">\n",
       "      <th></th>\n",
       "      <th>index</th>\n",
       "      <th>stock_list</th>\n",
       "    </tr>\n",
       "  </thead>\n",
       "  <tbody>\n",
       "    <tr>\n",
       "      <th>139</th>\n",
       "      <td>2024-05-22</td>\n",
       "      <td>[3019]</td>\n",
       "    </tr>\n",
       "    <tr>\n",
       "      <th>140</th>\n",
       "      <td>2024-05-23</td>\n",
       "      <td>[00662]</td>\n",
       "    </tr>\n",
       "    <tr>\n",
       "      <th>141</th>\n",
       "      <td>2024-05-30</td>\n",
       "      <td>[2451, 5536, 6285, 2524]</td>\n",
       "    </tr>\n",
       "    <tr>\n",
       "      <th>142</th>\n",
       "      <td>2024-06-03</td>\n",
       "      <td>[3596]</td>\n",
       "    </tr>\n",
       "    <tr>\n",
       "      <th>143</th>\n",
       "      <td>2024-06-11</td>\n",
       "      <td>[3532]</td>\n",
       "    </tr>\n",
       "    <tr>\n",
       "      <th>144</th>\n",
       "      <td>2024-06-14</td>\n",
       "      <td>[00662]</td>\n",
       "    </tr>\n",
       "    <tr>\n",
       "      <th>145</th>\n",
       "      <td>2024-06-21</td>\n",
       "      <td>[6023]</td>\n",
       "    </tr>\n",
       "    <tr>\n",
       "      <th>146</th>\n",
       "      <td>2024-06-24</td>\n",
       "      <td>[2801, 5234]</td>\n",
       "    </tr>\n",
       "    <tr>\n",
       "      <th>147</th>\n",
       "      <td>2024-07-02</td>\n",
       "      <td>[3189, 6213, 2539]</td>\n",
       "    </tr>\n",
       "    <tr>\n",
       "      <th>148</th>\n",
       "      <td>2024-07-04</td>\n",
       "      <td>[3023, 2897, 2801]</td>\n",
       "    </tr>\n",
       "    <tr>\n",
       "      <th>149</th>\n",
       "      <td>2024-07-17</td>\n",
       "      <td>[2539]</td>\n",
       "    </tr>\n",
       "    <tr>\n",
       "      <th>150</th>\n",
       "      <td>2024-08-15</td>\n",
       "      <td>[2006, 2607]</td>\n",
       "    </tr>\n",
       "    <tr>\n",
       "      <th>151</th>\n",
       "      <td>2024-08-19</td>\n",
       "      <td>[2363]</td>\n",
       "    </tr>\n",
       "    <tr>\n",
       "      <th>152</th>\n",
       "      <td>2024-08-27</td>\n",
       "      <td>[1319, 2606]</td>\n",
       "    </tr>\n",
       "    <tr>\n",
       "      <th>153</th>\n",
       "      <td>2024-09-02</td>\n",
       "      <td>[6901, 3042]</td>\n",
       "    </tr>\n",
       "    <tr>\n",
       "      <th>154</th>\n",
       "      <td>2024-09-23</td>\n",
       "      <td>[4919]</td>\n",
       "    </tr>\n",
       "    <tr>\n",
       "      <th>155</th>\n",
       "      <td>2024-09-24</td>\n",
       "      <td>[2634]</td>\n",
       "    </tr>\n",
       "    <tr>\n",
       "      <th>156</th>\n",
       "      <td>2024-09-25</td>\n",
       "      <td>[2606]</td>\n",
       "    </tr>\n",
       "    <tr>\n",
       "      <th>157</th>\n",
       "      <td>2024-09-27</td>\n",
       "      <td>[3260]</td>\n",
       "    </tr>\n",
       "    <tr>\n",
       "      <th>158</th>\n",
       "      <td>2024-09-30</td>\n",
       "      <td>[6491, 8150, 9907, 6592]</td>\n",
       "    </tr>\n",
       "  </tbody>\n",
       "</table>\n",
       "</div>"
      ],
      "text/plain": [
       "         index                stock_list\n",
       "139 2024-05-22                    [3019]\n",
       "140 2024-05-23                   [00662]\n",
       "141 2024-05-30  [2451, 5536, 6285, 2524]\n",
       "142 2024-06-03                    [3596]\n",
       "143 2024-06-11                    [3532]\n",
       "144 2024-06-14                   [00662]\n",
       "145 2024-06-21                    [6023]\n",
       "146 2024-06-24              [2801, 5234]\n",
       "147 2024-07-02        [3189, 6213, 2539]\n",
       "148 2024-07-04        [3023, 2897, 2801]\n",
       "149 2024-07-17                    [2539]\n",
       "150 2024-08-15              [2006, 2607]\n",
       "151 2024-08-19                    [2363]\n",
       "152 2024-08-27              [1319, 2606]\n",
       "153 2024-09-02              [6901, 3042]\n",
       "154 2024-09-23                    [4919]\n",
       "155 2024-09-24                    [2634]\n",
       "156 2024-09-25                    [2606]\n",
       "157 2024-09-27                    [3260]\n",
       "158 2024-09-30  [6491, 8150, 9907, 6592]"
      ]
     },
     "execution_count": 2,
     "metadata": {},
     "output_type": "execute_result"
    }
   ],
   "source": [
    "data = pd.read_feather('target_stocks.feather')\n",
    "data.tail(20)"
   ]
  },
  {
   "cell_type": "code",
   "execution_count": 3,
   "metadata": {},
   "outputs": [],
   "source": [
    "import pandas as pd\n",
    "import numpy as np\n",
    "from datetime import datetime\n",
    "from pathlib import Path\n",
    "import logging\n",
    "import yaml\n",
    "from full_bt import (\n",
    "    load_config,\n",
    "    read_stock_data,\n",
    "    construct_data,\n",
    "    execute_short_strategy,\n",
    "    calculate_daily_performance, \n",
    "    backtest_single_stock, \n",
    "    backtest_wrapper, \n",
    "    backtest_multiple_stocks,\n",
    "    get_stocks_for_date, \n",
    "    backtest_multiple_stocks, \n",
    "    compute_aggregated_metrics, \n",
    "    save_combined_results, \n",
    "    main\n",
    ")\n"
   ]
  },
  {
   "cell_type": "code",
   "execution_count": 4,
   "metadata": {},
   "outputs": [],
   "source": [
    "config = load_config('config.yaml')"
   ]
  },
  {
   "cell_type": "code",
   "execution_count": 5,
   "metadata": {},
   "outputs": [
    {
     "data": {
      "text/html": [
       "<div>\n",
       "<style scoped>\n",
       "    .dataframe tbody tr th:only-of-type {\n",
       "        vertical-align: middle;\n",
       "    }\n",
       "\n",
       "    .dataframe tbody tr th {\n",
       "        vertical-align: top;\n",
       "    }\n",
       "\n",
       "    .dataframe thead th {\n",
       "        text-align: right;\n",
       "    }\n",
       "</style>\n",
       "<table border=\"1\" class=\"dataframe\">\n",
       "  <thead>\n",
       "    <tr style=\"text-align: right;\">\n",
       "      <th></th>\n",
       "      <th>Open</th>\n",
       "      <th>High</th>\n",
       "      <th>Low</th>\n",
       "      <th>Close</th>\n",
       "      <th>Volume</th>\n",
       "      <th>Amount</th>\n",
       "    </tr>\n",
       "    <tr>\n",
       "      <th>ts</th>\n",
       "      <th></th>\n",
       "      <th></th>\n",
       "      <th></th>\n",
       "      <th></th>\n",
       "      <th></th>\n",
       "      <th></th>\n",
       "    </tr>\n",
       "  </thead>\n",
       "  <tbody>\n",
       "    <tr>\n",
       "      <th>2024-07-17 09:01:00</th>\n",
       "      <td>78.8</td>\n",
       "      <td>78.8</td>\n",
       "      <td>78.8</td>\n",
       "      <td>78.8</td>\n",
       "      <td>15</td>\n",
       "      <td>1182000.0</td>\n",
       "    </tr>\n",
       "    <tr>\n",
       "      <th>2024-07-17 09:02:00</th>\n",
       "      <td>78.9</td>\n",
       "      <td>79.0</td>\n",
       "      <td>78.7</td>\n",
       "      <td>78.7</td>\n",
       "      <td>17</td>\n",
       "      <td>1340700.0</td>\n",
       "    </tr>\n",
       "    <tr>\n",
       "      <th>2024-07-17 09:03:00</th>\n",
       "      <td>78.7</td>\n",
       "      <td>78.7</td>\n",
       "      <td>78.7</td>\n",
       "      <td>78.7</td>\n",
       "      <td>5</td>\n",
       "      <td>393500.0</td>\n",
       "    </tr>\n",
       "    <tr>\n",
       "      <th>2024-07-17 09:04:00</th>\n",
       "      <td>78.8</td>\n",
       "      <td>78.8</td>\n",
       "      <td>78.1</td>\n",
       "      <td>78.1</td>\n",
       "      <td>30</td>\n",
       "      <td>2358800.0</td>\n",
       "    </tr>\n",
       "    <tr>\n",
       "      <th>2024-07-17 09:06:00</th>\n",
       "      <td>78.6</td>\n",
       "      <td>79.1</td>\n",
       "      <td>78.3</td>\n",
       "      <td>78.8</td>\n",
       "      <td>22</td>\n",
       "      <td>1733800.0</td>\n",
       "    </tr>\n",
       "  </tbody>\n",
       "</table>\n",
       "</div>"
      ],
      "text/plain": [
       "                     Open  High   Low  Close  Volume     Amount\n",
       "ts                                                             \n",
       "2024-07-17 09:01:00  78.8  78.8  78.8   78.8      15  1182000.0\n",
       "2024-07-17 09:02:00  78.9  79.0  78.7   78.7      17  1340700.0\n",
       "2024-07-17 09:03:00  78.7  78.7  78.7   78.7       5   393500.0\n",
       "2024-07-17 09:04:00  78.8  78.8  78.1   78.1      30  2358800.0\n",
       "2024-07-17 09:06:00  78.6  79.1  78.3   78.8      22  1733800.0"
      ]
     },
     "execution_count": 5,
     "metadata": {},
     "output_type": "execute_result"
    }
   ],
   "source": [
    "df= read_stock_data('2539', datetime.strptime('2024-7-17', '%Y-%m-%d'), '/Users/mouyasushi/k_data/永豐')\n",
    "df.head()"
   ]
  },
  {
   "cell_type": "code",
   "execution_count": 6,
   "metadata": {},
   "outputs": [
    {
     "name": "stdout",
     "output_type": "stream",
     "text": [
      "[78.8 78.7 78.7 78.1  0.  78.8 78.7 78.7 78.  77.4 77.4 77.7 77.7 77.9\n",
      " 77.9  0.  78.3 78.6 77.8 78.6  0.   0.  78.4  0.  78.6  0.  78.5 78.5\n",
      "  0.  78.5  0.  78.5 78.6 79.  79.  79.2 79.2 79.3 79.2 79.1  0.  79.\n",
      " 78.8  0.   0.   0.  79.   0.   0.   0.   0.   0.  79.4 79.4 79.3  0.\n",
      " 79.4 79.3  0.  79.5 79.6  0.  79.6 79.9 79.9  0.  80.1 80.2 80.3  0.\n",
      " 80.5 80.6 80.4 80.2 80.1  0.  80.1 80.5  0.  80.4 80.3 80.4  0.  80.4\n",
      " 80.6 80.4 80.3 80.2  0.   0.   0.  80.2 80.2  0.  80.2 80.2 80.1  0.\n",
      " 80.1  0.   0.  79.9  0.  80.  79.8  0.   0.   0.   0.  80.   0.   0.\n",
      "  0.   0.  80.   0.   0.  80.   0.   0.   0.   0.   0.   0.  80.1 80.2\n",
      " 80.2 80.1 80.   0.   0.  80.2  0.  80.3 80.4  0.   0.   0.   0.   0.\n",
      "  0.   0.  80.4 80.4  0.  80.4  0.  80.3 80.3 80.3  0.   0.   0.  80.2\n",
      " 80.2  0.  80.2 80.1 80.1  0.   0.   0.   0.   0.   0.  80.1  0.   0.\n",
      "  0.   0.   0.   0.   0.   0.   0.   0.   0.   0.   0.   0.  79.6  0.\n",
      " 79.6  0.   0.   0.  79.8 79.8  0.   0.   0.   0.   0.   0.   0.   0.\n",
      " 79.9  0.   0.  79.8  0.   0.   0.   0.  79.8  0.   0.   0.  79.6  0.\n",
      "  0.   0.   0.   0.   0.   0.  79.5 79.5 79.5 79.4  0.   0.   0.  79.5\n",
      "  0.   0.   0.   0.  79.5 79.5  0.   0.   0.   0.   0.   0.   0.  79.5\n",
      " 79.4  0.   0.  79.4  0.   0.  79.4 79.4 79.5  0.   0.   0.  79.5  0.\n",
      "  0.  79.6 79.6  0.  79.5 79.4 79.5 79.5  0.  79.5 79.4 79.5 79.6  0.\n",
      "  0.   0.   0.  79. ]\n",
      "270\n"
     ]
    }
   ],
   "source": [
    "import warnings\n",
    "warnings.filterwarnings(\"ignore\", category=DeprecationWarning)\n",
    "np_data= construct_data(df, ma_period=14) # this is a dictioinary \n",
    "close_np = np_data['Close']\n",
    "print(close_np)\n",
    "print(len(close_np))\n"
   ]
  },
  {
   "cell_type": "code",
   "execution_count": 7,
   "metadata": {},
   "outputs": [
    {
     "data": {
      "text/plain": [
       "(array([1000000, 1000000, 1000000, 1000000, 1000000,  996455,  997727,\n",
       "         997727, 1006633, 1014267, 1014267, 1010450, 1010450, 1007905,\n",
       "        1007905,  999000, 1002816,  999000, 1009178,  999000,  999000,\n",
       "         999000, 1001544,  999000,  999000,  999000, 1000272, 1000272,\n",
       "         999000, 1000272,  999000, 1000272,  999000,  993910,  993910,\n",
       "         991366,  991366,  990094,  991366,  992638,  999000,  993910,\n",
       "         996455,  999000,  999000,  999000,  993910,  999000,  999000,\n",
       "         999000,  999000,  999000,  988821,  988821,  990094,  999000,\n",
       "         988821,  990094,  999000,  987549,  986277,  999000,  986277,\n",
       "         982460,  982460,  999000,  979916,  978643,  977371,  999000,\n",
       "         974826,  973554,  976099,  978643,  979916,  999000,  979916,\n",
       "         974826,  999000,  976099,  977371,  976099,  999000,  976099,\n",
       "         973554,  976099,  977371,  978643,  999000,  999000,  999000,\n",
       "         978643,  978643,  999000,  978643,  978643,  979916,  999000,\n",
       "         979916,  999000,  999000,  982460,  999000,  981188,  983732,\n",
       "         999000,  999000,  999000,  999000,  981188,  999000,  999000,\n",
       "         999000,  999000,  981188,  999000,  999000,  981188,  999000,\n",
       "         999000,  999000,  999000,  999000,  999000,  979576,  978728,\n",
       "         978728,  979576,  980424,  992298,  992298,  978728,  992298,\n",
       "         977879,  977031,  992298,  992298,  992298,  992298,  992298,\n",
       "         992298,  992298,  977031,  977031,  992298,  977031,  992298,\n",
       "         977879,  977879,  977879,  992298,  992298,  992298,  978728,\n",
       "         978728,  992298,  978728,  979576,  979576,  992298,  992298,\n",
       "         992298,  992298,  992298,  992298,  979576,  992298,  992298,\n",
       "         992298,  992298,  992298,  992298,  992298,  992298,  992298,\n",
       "         992298,  992298,  992298,  992298,  992298,  983817,  992298,\n",
       "         983817,  992298,  992298,  992298,  982120,  982120,  992298,\n",
       "         992298,  992298,  992298,  992298,  992298,  992298,  992298,\n",
       "         981272,  992298,  992298,  982120,  992298,  992298,  992298,\n",
       "         992298,  982120,  992298,  992298,  992298,  983817,  992298,\n",
       "         992298,  992298,  992298,  992298,  992298,  992298,  984665,\n",
       "         984665,  984665,  985513,  992298,  992298,  992298,  984665,\n",
       "         992298,  992298,  992298,  992298,  984665,  984665,  992298,\n",
       "         992298,  992298,  992298,  992298,  992298,  992298,  984665,\n",
       "         985513,  992298,  992298,  985176,  988569,  988569,  985176,\n",
       "         985176,  984752,  988569,  988569,  988569,  984752,  988569,\n",
       "         988569,  984328,  984328,  988569,  984752,  985176,  984752,\n",
       "         984752,  988569,  984752,  985176,  984752,  984328,  988569,\n",
       "         988569,  988569,  988569,  986538]),\n",
       " 1,\n",
       " 264)"
      ]
     },
     "execution_count": 7,
     "metadata": {},
     "output_type": "execute_result"
    }
   ],
   "source": [
    "\"\"\" \n",
    "execute_short_strategy(open_np, close_np, vwap_np, open_time_np, initial_cap, fee_rate, \n",
    "                         stop_loss_pct, threshold, entry_time_min, previous_day_last_close) --> equity, trade times\n",
    "\"\"\"\n",
    "\n",
    "equity = execute_short_strategy(\n",
    "    np_data['Open'],\n",
    "    np_data['Close'],\n",
    "    np_data['VWAP'],\n",
    "    np_data['open_time'],\n",
    "    initial_cap=1000000,\n",
    "    fee_rate=0.001,\n",
    "    stop_loss_pct=0.04,\n",
    "    threshold=1.001,\n",
    "    entry_time_min=546,  # 9:06 AM\n",
    "    previous_day_last_close=77)\n",
    "\n",
    "equity"
   ]
  },
  {
   "cell_type": "code",
   "execution_count": 8,
   "metadata": {},
   "outputs": [
    {
     "data": {
      "text/plain": [
       "{'Total Trades': 1,\n",
       " 'Total Return': -0.013461999999999974,\n",
       " 'Max Drawdown': 0.0401403180819252,\n",
       " 'Win Rate': 0.2825278810408922,\n",
       " 'Daily Volatility': 0.008178933569953886}"
      ]
     },
     "execution_count": 8,
     "metadata": {},
     "output_type": "execute_result"
    }
   ],
   "source": [
    "calculate_daily_performance(equity[0], trade_count=equity[1]) "
   ]
  },
  {
   "cell_type": "code",
   "execution_count": 9,
   "metadata": {},
   "outputs": [
    {
     "data": {
      "text/html": [
       "<div>\n",
       "<style scoped>\n",
       "    .dataframe tbody tr th:only-of-type {\n",
       "        vertical-align: middle;\n",
       "    }\n",
       "\n",
       "    .dataframe tbody tr th {\n",
       "        vertical-align: top;\n",
       "    }\n",
       "\n",
       "    .dataframe thead th {\n",
       "        text-align: right;\n",
       "    }\n",
       "</style>\n",
       "<table border=\"1\" class=\"dataframe\">\n",
       "  <thead>\n",
       "    <tr style=\"text-align: right;\">\n",
       "      <th></th>\n",
       "      <th>index</th>\n",
       "      <th>stock_list</th>\n",
       "    </tr>\n",
       "  </thead>\n",
       "  <tbody>\n",
       "    <tr>\n",
       "      <th>0</th>\n",
       "      <td>2022-10-21</td>\n",
       "      <td>[1717]</td>\n",
       "    </tr>\n",
       "    <tr>\n",
       "      <th>1</th>\n",
       "      <td>2022-10-28</td>\n",
       "      <td>[6873, 1904]</td>\n",
       "    </tr>\n",
       "    <tr>\n",
       "      <th>2</th>\n",
       "      <td>2022-11-03</td>\n",
       "      <td>[2520]</td>\n",
       "    </tr>\n",
       "    <tr>\n",
       "      <th>3</th>\n",
       "      <td>2022-11-04</td>\n",
       "      <td>[6412]</td>\n",
       "    </tr>\n",
       "    <tr>\n",
       "      <th>4</th>\n",
       "      <td>2022-11-09</td>\n",
       "      <td>[6188, 1409]</td>\n",
       "    </tr>\n",
       "  </tbody>\n",
       "</table>\n",
       "</div>"
      ],
      "text/plain": [
       "       index    stock_list\n",
       "0 2022-10-21        [1717]\n",
       "1 2022-10-28  [6873, 1904]\n",
       "2 2022-11-03        [2520]\n",
       "3 2022-11-04        [6412]\n",
       "4 2022-11-09  [6188, 1409]"
      ]
     },
     "execution_count": 9,
     "metadata": {},
     "output_type": "execute_result"
    }
   ],
   "source": [
    "data.head()"
   ]
  },
  {
   "cell_type": "code",
   "execution_count": 10,
   "metadata": {},
   "outputs": [
    {
     "name": "stdout",
     "output_type": "stream",
     "text": [
      "<class 'pandas.core.series.Series'>\n",
      "<class 'pandas.core.series.Series'>\n",
      "<class 'numpy.ndarray'>\n",
      "<class 'str'>\n"
     ]
    }
   ],
   "source": [
    "print(type(data['index']))\n",
    "print(type(data['stock_list']))\n",
    "print(type(data['stock_list'][0]))\n",
    "print(type(data['stock_list'][0][0]))"
   ]
  },
  {
   "cell_type": "code",
   "execution_count": 11,
   "metadata": {},
   "outputs": [
    {
     "name": "stderr",
     "output_type": "stream",
     "text": [
      "2024-10-23 21:05:05,030 - INFO - [full_bt.py:263] - get_stocks_for_date - Reading stock list from Parquet file: target_stocks.feather\n",
      "2024-10-23 21:05:05,143 - ERROR - [full_bt.py:327] - get_stocks_for_date - Error reading stock list: Could not open Parquet input source '<Buffer>': Parquet magic bytes not found in footer. Either the file is corrupted or this is not a parquet file.\n"
     ]
    },
    {
     "name": "stdout",
     "output_type": "stream",
     "text": [
      "Stocks for 2024-07-02: []\n"
     ]
    }
   ],
   "source": [
    "import logging\n",
    "\n",
    "logging.basicConfig(level=logging.DEBUG)\n",
    "\n",
    "\n",
    "from datetime import datetime\n",
    "\n",
    "date_to_check = datetime.strptime('2024-07-02', '%Y-%m-%d')\n",
    "stocks = get_stocks_for_date('target_stocks.feather', date_to_check)\n",
    "print(f\"Stocks for {date_to_check.date()}: {stocks}\")\n"
   ]
  },
  {
   "cell_type": "code",
   "execution_count": 12,
   "metadata": {},
   "outputs": [
    {
     "name": "stderr",
     "output_type": "stream",
     "text": [
      "2024-10-23 21:05:05,152 - INFO - [full_bt.py:336] - backtest_single_stock - Running backtest for stock: 3189 on date: 2024-07-02\n"
     ]
    },
    {
     "data": {
      "text/plain": [
       "{'Total Trades': 0,\n",
       " 'Total Return': 0.0,\n",
       " 'Max Drawdown': 0.0,\n",
       " 'Win Rate': 0.0,\n",
       " 'Daily Volatility': 0.0,\n",
       " 'Stock': '3189',\n",
       " 'Date': datetime.date(2024, 7, 2),\n",
       " 'Equity Curve': array([1000000, 1000000, 1000000, 1000000, 1000000, 1000000, 1000000,\n",
       "        1000000, 1000000, 1000000, 1000000, 1000000, 1000000, 1000000,\n",
       "        1000000, 1000000, 1000000, 1000000, 1000000, 1000000, 1000000,\n",
       "        1000000, 1000000, 1000000, 1000000, 1000000, 1000000, 1000000,\n",
       "        1000000, 1000000, 1000000, 1000000, 1000000, 1000000, 1000000,\n",
       "        1000000, 1000000, 1000000, 1000000, 1000000, 1000000, 1000000,\n",
       "        1000000, 1000000, 1000000, 1000000, 1000000, 1000000, 1000000,\n",
       "        1000000, 1000000, 1000000, 1000000, 1000000, 1000000, 1000000,\n",
       "        1000000, 1000000, 1000000, 1000000, 1000000, 1000000, 1000000,\n",
       "        1000000, 1000000, 1000000, 1000000, 1000000, 1000000, 1000000,\n",
       "        1000000, 1000000, 1000000, 1000000, 1000000, 1000000, 1000000,\n",
       "        1000000, 1000000, 1000000, 1000000, 1000000, 1000000, 1000000,\n",
       "        1000000, 1000000, 1000000, 1000000, 1000000, 1000000, 1000000,\n",
       "        1000000, 1000000, 1000000, 1000000, 1000000, 1000000, 1000000,\n",
       "        1000000, 1000000, 1000000, 1000000, 1000000, 1000000, 1000000,\n",
       "        1000000, 1000000, 1000000, 1000000, 1000000, 1000000, 1000000,\n",
       "        1000000, 1000000, 1000000, 1000000, 1000000, 1000000, 1000000,\n",
       "        1000000, 1000000, 1000000, 1000000, 1000000, 1000000, 1000000,\n",
       "        1000000, 1000000, 1000000, 1000000, 1000000, 1000000, 1000000,\n",
       "        1000000, 1000000, 1000000, 1000000, 1000000, 1000000, 1000000,\n",
       "        1000000, 1000000, 1000000, 1000000, 1000000, 1000000, 1000000,\n",
       "        1000000, 1000000, 1000000, 1000000, 1000000, 1000000, 1000000,\n",
       "        1000000, 1000000, 1000000, 1000000, 1000000, 1000000, 1000000,\n",
       "        1000000, 1000000, 1000000, 1000000, 1000000, 1000000, 1000000,\n",
       "        1000000, 1000000, 1000000, 1000000, 1000000, 1000000, 1000000,\n",
       "        1000000, 1000000, 1000000, 1000000, 1000000, 1000000, 1000000,\n",
       "        1000000, 1000000, 1000000, 1000000, 1000000, 1000000, 1000000,\n",
       "        1000000, 1000000, 1000000, 1000000, 1000000, 1000000, 1000000,\n",
       "        1000000, 1000000, 1000000, 1000000, 1000000, 1000000, 1000000,\n",
       "        1000000, 1000000, 1000000, 1000000, 1000000, 1000000, 1000000,\n",
       "        1000000, 1000000, 1000000, 1000000, 1000000, 1000000, 1000000,\n",
       "        1000000, 1000000, 1000000, 1000000, 1000000, 1000000, 1000000,\n",
       "        1000000, 1000000, 1000000, 1000000, 1000000, 1000000, 1000000,\n",
       "        1000000, 1000000, 1000000, 1000000, 1000000, 1000000, 1000000,\n",
       "        1000000, 1000000, 1000000, 1000000, 1000000, 1000000, 1000000,\n",
       "        1000000, 1000000, 1000000, 1000000, 1000000, 1000000, 1000000,\n",
       "        1000000, 1000000, 1000000, 1000000, 1000000, 1000000, 1000000,\n",
       "        1000000, 1000000, 1000000, 1000000, 1000000, 1000000, 1000000,\n",
       "        1000000, 1000000, 1000000, 1000000]),\n",
       " 'Holding Minutes': 0}"
      ]
     },
     "execution_count": 12,
     "metadata": {},
     "output_type": "execute_result"
    }
   ],
   "source": [
    "backtest_single_stock('3189', date_to_check, config)"
   ]
  },
  {
   "cell_type": "code",
   "execution_count": 13,
   "metadata": {},
   "outputs": [
    {
     "data": {
      "text/plain": [
       "[]"
      ]
     },
     "execution_count": 13,
     "metadata": {},
     "output_type": "execute_result"
    }
   ],
   "source": [
    "stocks"
   ]
  },
  {
   "cell_type": "code",
   "execution_count": 14,
   "metadata": {},
   "outputs": [
    {
     "data": {
      "text/plain": [
       "([], {})"
      ]
     },
     "execution_count": 14,
     "metadata": {},
     "output_type": "execute_result"
    }
   ],
   "source": [
    "backtest_multiple_stocks(stocks, date_to_check, config)"
   ]
  },
  {
   "cell_type": "markdown",
   "metadata": {},
   "source": [
    "### test script\n"
   ]
  },
  {
   "cell_type": "code",
   "execution_count": 15,
   "metadata": {},
   "outputs": [
    {
     "data": {
      "text/html": [
       "<div>\n",
       "<style scoped>\n",
       "    .dataframe tbody tr th:only-of-type {\n",
       "        vertical-align: middle;\n",
       "    }\n",
       "\n",
       "    .dataframe tbody tr th {\n",
       "        vertical-align: top;\n",
       "    }\n",
       "\n",
       "    .dataframe thead th {\n",
       "        text-align: right;\n",
       "    }\n",
       "</style>\n",
       "<table border=\"1\" class=\"dataframe\">\n",
       "  <thead>\n",
       "    <tr style=\"text-align: right;\">\n",
       "      <th></th>\n",
       "      <th>Date</th>\n",
       "      <th>Weekly Return</th>\n",
       "      <th>Monthly Return</th>\n",
       "      <th>Yearly Return</th>\n",
       "    </tr>\n",
       "  </thead>\n",
       "  <tbody>\n",
       "    <tr>\n",
       "      <th>65</th>\n",
       "      <td>2023-01-31</td>\n",
       "      <td>NaN</td>\n",
       "      <td>-1.651231</td>\n",
       "      <td>NaN</td>\n",
       "    </tr>\n",
       "    <tr>\n",
       "      <th>66</th>\n",
       "      <td>2023-02-03</td>\n",
       "      <td>-3.524146</td>\n",
       "      <td>NaN</td>\n",
       "      <td>NaN</td>\n",
       "    </tr>\n",
       "    <tr>\n",
       "      <th>67</th>\n",
       "      <td>2023-02-10</td>\n",
       "      <td>0.377358</td>\n",
       "      <td>NaN</td>\n",
       "      <td>NaN</td>\n",
       "    </tr>\n",
       "    <tr>\n",
       "      <th>68</th>\n",
       "      <td>2023-02-28</td>\n",
       "      <td>NaN</td>\n",
       "      <td>1.023012</td>\n",
       "      <td>NaN</td>\n",
       "    </tr>\n",
       "    <tr>\n",
       "      <th>69</th>\n",
       "      <td>2023-12-31</td>\n",
       "      <td>NaN</td>\n",
       "      <td>NaN</td>\n",
       "      <td>-2.317449</td>\n",
       "    </tr>\n",
       "  </tbody>\n",
       "</table>\n",
       "</div>"
      ],
      "text/plain": [
       "         Date  Weekly Return  Monthly Return  Yearly Return\n",
       "65 2023-01-31            NaN       -1.651231            NaN\n",
       "66 2023-02-03      -3.524146             NaN            NaN\n",
       "67 2023-02-10       0.377358             NaN            NaN\n",
       "68 2023-02-28            NaN        1.023012            NaN\n",
       "69 2023-12-31            NaN             NaN      -2.317449"
      ]
     },
     "execution_count": 15,
     "metadata": {},
     "output_type": "execute_result"
    }
   ],
   "source": [
    "\"\"\" \n",
    "the result is normal because we take a month to form a monthly return. \n",
    "\"\"\"\n",
    "\n",
    "import numpy as np\n",
    "from datetime import datetime\n",
    "\n",
    "# Generate mock backtesting results data (daily returns for ~400 days)\n",
    "# Dates will cover more than one year\n",
    "\n",
    "mock_data = {\n",
    "    'Date': pd.date_range(start='2022-01-01', periods=400, freq='D'),  # 400 days starting from 2022-01-01\n",
    "    'Total Return': np.random.uniform(-0.03, 0.03, 400)  # Random daily returns between -3% and +3%\n",
    "}\n",
    "\n",
    "# Convert the dictionary to a DataFrame\n",
    "mock_results_df = pd.DataFrame(mock_data)\n",
    "\n",
    "# Test the function\n",
    "aggregated_metrics = compute_aggregated_metrics(mock_results_df)\n",
    "\n",
    "aggregated_metrics.tail()\n",
    "\n"
   ]
  },
  {
   "cell_type": "code",
   "execution_count": 16,
   "metadata": {},
   "outputs": [
    {
     "data": {
      "text/html": [
       "<div>\n",
       "<style scoped>\n",
       "    .dataframe tbody tr th:only-of-type {\n",
       "        vertical-align: middle;\n",
       "    }\n",
       "\n",
       "    .dataframe tbody tr th {\n",
       "        vertical-align: top;\n",
       "    }\n",
       "\n",
       "    .dataframe thead th {\n",
       "        text-align: right;\n",
       "    }\n",
       "</style>\n",
       "<table border=\"1\" class=\"dataframe\">\n",
       "  <thead>\n",
       "    <tr style=\"text-align: right;\">\n",
       "      <th></th>\n",
       "      <th>index</th>\n",
       "      <th>stock_list</th>\n",
       "    </tr>\n",
       "  </thead>\n",
       "  <tbody>\n",
       "    <tr>\n",
       "      <th>0</th>\n",
       "      <td>2022-10-21</td>\n",
       "      <td>[1717]</td>\n",
       "    </tr>\n",
       "    <tr>\n",
       "      <th>1</th>\n",
       "      <td>2022-10-28</td>\n",
       "      <td>[6873, 1904]</td>\n",
       "    </tr>\n",
       "    <tr>\n",
       "      <th>2</th>\n",
       "      <td>2022-11-03</td>\n",
       "      <td>[2520]</td>\n",
       "    </tr>\n",
       "    <tr>\n",
       "      <th>3</th>\n",
       "      <td>2022-11-04</td>\n",
       "      <td>[6412]</td>\n",
       "    </tr>\n",
       "    <tr>\n",
       "      <th>4</th>\n",
       "      <td>2022-11-09</td>\n",
       "      <td>[6188, 1409]</td>\n",
       "    </tr>\n",
       "    <tr>\n",
       "      <th>...</th>\n",
       "      <td>...</td>\n",
       "      <td>...</td>\n",
       "    </tr>\n",
       "    <tr>\n",
       "      <th>154</th>\n",
       "      <td>2024-09-23</td>\n",
       "      <td>[4919]</td>\n",
       "    </tr>\n",
       "    <tr>\n",
       "      <th>155</th>\n",
       "      <td>2024-09-24</td>\n",
       "      <td>[2634]</td>\n",
       "    </tr>\n",
       "    <tr>\n",
       "      <th>156</th>\n",
       "      <td>2024-09-25</td>\n",
       "      <td>[2606]</td>\n",
       "    </tr>\n",
       "    <tr>\n",
       "      <th>157</th>\n",
       "      <td>2024-09-27</td>\n",
       "      <td>[3260]</td>\n",
       "    </tr>\n",
       "    <tr>\n",
       "      <th>158</th>\n",
       "      <td>2024-09-30</td>\n",
       "      <td>[6491, 8150, 9907, 6592]</td>\n",
       "    </tr>\n",
       "  </tbody>\n",
       "</table>\n",
       "<p>159 rows × 2 columns</p>\n",
       "</div>"
      ],
      "text/plain": [
       "         index                stock_list\n",
       "0   2022-10-21                    [1717]\n",
       "1   2022-10-28              [6873, 1904]\n",
       "2   2022-11-03                    [2520]\n",
       "3   2022-11-04                    [6412]\n",
       "4   2022-11-09              [6188, 1409]\n",
       "..         ...                       ...\n",
       "154 2024-09-23                    [4919]\n",
       "155 2024-09-24                    [2634]\n",
       "156 2024-09-25                    [2606]\n",
       "157 2024-09-27                    [3260]\n",
       "158 2024-09-30  [6491, 8150, 9907, 6592]\n",
       "\n",
       "[159 rows x 2 columns]"
      ]
     },
     "execution_count": 16,
     "metadata": {},
     "output_type": "execute_result"
    }
   ],
   "source": [
    "data"
   ]
  },
  {
   "cell_type": "markdown",
   "metadata": {},
   "source": [
    "### New filtered_stock"
   ]
  },
  {
   "cell_type": "code",
   "execution_count": 17,
   "metadata": {},
   "outputs": [],
   "source": [
    "filtered = pd.read_parquet('filtered_stocks.parquet')"
   ]
  },
  {
   "cell_type": "code",
   "execution_count": 18,
   "metadata": {},
   "outputs": [
    {
     "name": "stdout",
     "output_type": "stream",
     "text": [
      "DatetimeIndex(['2023-10-16', '2023-10-17', '2023-10-18', '2023-10-19',\n",
      "               '2023-10-20', '2023-10-23', '2023-10-24', '2023-10-25',\n",
      "               '2023-10-26', '2023-10-27',\n",
      "               ...\n",
      "               '2024-09-26', '2024-09-27', '2024-09-30', '2024-10-01',\n",
      "               '2024-10-04', '2024-10-07', '2024-10-08', '2024-10-09',\n",
      "               '2024-10-11', '2024-10-14'],\n",
      "              dtype='datetime64[ns]', name='Date', length=244, freq=None)\n",
      "Date\n",
      "2023-10-16                          []\n",
      "2023-10-17                          []\n",
      "2023-10-18                          []\n",
      "2023-10-19                          []\n",
      "2023-10-20    [3374, 4743, 6901, 2606]\n",
      "                        ...           \n",
      "2024-10-07                          []\n",
      "2024-10-08    [2486, 4961, 2467, 3583]\n",
      "2024-10-09    [3413, 2363, 2467, 8028]\n",
      "2024-10-11                      [2363]\n",
      "2024-10-14                      [2421]\n",
      "Name: stock_list, Length: 244, dtype: object\n"
     ]
    }
   ],
   "source": [
    "print(filtered.index) # filtered.index\n",
    "print(filtered['stock_list'])"
   ]
  },
  {
   "cell_type": "code",
   "execution_count": 19,
   "metadata": {},
   "outputs": [
    {
     "name": "stdout",
     "output_type": "stream",
     "text": [
      "<class 'numpy.ndarray'>\n",
      "<class 'str'>\n"
     ]
    }
   ],
   "source": [
    "stk_list_type = type(filtered['stock_list'][20])\n",
    "print(stk_list_type)\n",
    "\n",
    "stk_list = type(filtered['stock_list'][20][2])\n",
    "print(stk_list)"
   ]
  },
  {
   "cell_type": "code",
   "execution_count": 20,
   "metadata": {},
   "outputs": [
    {
     "name": "stderr",
     "output_type": "stream",
     "text": [
      "2024-10-23 21:05:07,022 - INFO - [full_bt.py:263] - get_stocks_for_date - Reading stock list from Parquet file: filtered_stocks.parquet\n",
      "2024-10-23 21:05:07,035 - INFO - [full_bt.py:318] - get_stocks_for_date - Found 8 stocks for date 2024-07-02\n"
     ]
    },
    {
     "data": {
      "text/plain": [
       "['3189', '6187', '6442', '2359', '6213', '3583', '5508', '6188']"
      ]
     },
     "execution_count": 20,
     "metadata": {},
     "output_type": "execute_result"
    }
   ],
   "source": [
    "date_to_check = datetime.strptime('2024-07-02', '%Y-%m-%d')\n",
    "\n",
    "get_stocks_for_date('filtered_stocks.parquet', date_to_check)"
   ]
  },
  {
   "cell_type": "code",
   "execution_count": null,
   "metadata": {},
   "outputs": [],
   "source": []
  }
 ],
 "metadata": {
  "kernelspec": {
   "display_name": "Python 3",
   "language": "python",
   "name": "python3"
  },
  "language_info": {
   "codemirror_mode": {
    "name": "ipython",
    "version": 3
   },
   "file_extension": ".py",
   "mimetype": "text/x-python",
   "name": "python",
   "nbconvert_exporter": "python",
   "pygments_lexer": "ipython3",
   "version": "3.12.6"
  }
 },
 "nbformat": 4,
 "nbformat_minor": 2
}
