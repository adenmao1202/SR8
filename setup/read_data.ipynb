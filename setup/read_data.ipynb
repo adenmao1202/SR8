{
 "cells": [
  {
   "cell_type": "code",
   "execution_count": 1,
   "metadata": {},
   "outputs": [],
   "source": [
    "import pandas as pd\n",
    "import numpy as np\n",
    "import os\n",
    "import datetime"
   ]
  },
  {
   "cell_type": "code",
   "execution_count": 2,
   "metadata": {},
   "outputs": [
    {
     "name": "stdout",
     "output_type": "stream",
     "text": [
      "         index                stock_list\n",
      "0   2022-10-21                    [1717]\n",
      "1   2022-10-28              [6873, 1904]\n",
      "2   2022-11-03                    [2520]\n",
      "3   2022-11-04                    [6412]\n",
      "4   2022-11-09              [6188, 1409]\n",
      "..         ...                       ...\n",
      "154 2024-09-23                    [4919]\n",
      "155 2024-09-24                    [2634]\n",
      "156 2024-09-25                    [2606]\n",
      "157 2024-09-27                    [3260]\n",
      "158 2024-09-30  [6491, 8150, 9907, 6592]\n",
      "\n",
      "[159 rows x 2 columns]\n"
     ]
    }
   ],
   "source": [
    "data = pd.read_feather('target_stocks.feather')\n",
    "print(data)"
   ]
  },
  {
   "cell_type": "code",
   "execution_count": 3,
   "metadata": {},
   "outputs": [],
   "source": [
    "import pandas as pd\n",
    "import numpy as np\n",
    "from datetime import datetime\n",
    "from pathlib import Path\n",
    "import logging\n",
    "import yaml\n",
    "from daily_bt import (\n",
    "    load_config, \n",
    "    read_stock_data, \n",
    "    construct_data, \n",
    "    execute_short_strategy,\n",
    "    calculate_daily_performance,\n",
    "    backtest_single_stock,\n",
    "    get_stocks_for_date\n",
    ")\n"
   ]
  },
  {
   "cell_type": "code",
   "execution_count": 4,
   "metadata": {},
   "outputs": [
    {
     "data": {
      "text/plain": [
       "{'csv_path': '/Users/mouyasushi/k_data/永豐',\n",
       " 'output_directory': '/Users/mouyasushi/Desktop/sr8_op_file',\n",
       " 'ma_period': 14,\n",
       " 'initial_cap': 1000000,\n",
       " 'fee_rate': 0.001,\n",
       " 'stop_loss_pct': 0.04,\n",
       " 'threshold': 1.01,\n",
       " 'entry_time': '09:06',\n",
       " 'exit_times': ['11:00', '13:00', '13:30'],\n",
       " 'num_processes': 4}"
      ]
     },
     "execution_count": 4,
     "metadata": {},
     "output_type": "execute_result"
    }
   ],
   "source": [
    "load_config('config.yaml')"
   ]
  },
  {
   "cell_type": "code",
   "execution_count": 5,
   "metadata": {},
   "outputs": [
    {
     "name": "stdout",
     "output_type": "stream",
     "text": [
      "                      Open   High    Low  Close  Volume     Amount\n",
      "ts                                                                \n",
      "2023-11-16 09:01:00  45.00  45.05  44.80  44.80      80  3597900.0\n",
      "2023-11-16 09:02:00  44.80  44.80  44.50  44.55      88  3925600.0\n",
      "2023-11-16 09:03:00  44.55  44.75  44.55  44.75      77  3438750.0\n",
      "2023-11-16 09:04:00  44.80  44.95  44.80  44.95      41  1837950.0\n",
      "2023-11-16 09:05:00  45.00  45.00  44.90  44.90      14   629200.0\n",
      "                      Open   High    Low  Close  Volume     Amount\n",
      "ts                                                                \n",
      "2023-11-16 13:22:00  45.05  45.15  45.05  45.15      79  3562000.0\n",
      "2023-11-16 13:23:00  45.10  45.10  45.05  45.10      32  1443150.0\n",
      "2023-11-16 13:24:00  45.10  45.10  45.05  45.05       9   405500.0\n",
      "2023-11-16 13:25:00  45.05  45.10  45.00  45.00      39  1756200.0\n",
      "2023-11-16 13:30:00  45.05  45.05  45.05  45.05     190  8559500.0\n",
      "241\n"
     ]
    }
   ],
   "source": [
    "df= read_stock_data('2606', datetime.strptime('2023-11-16', '%Y-%m-%d'), '/Users/mouyasushi/k_data/永豐')\n",
    "print(df.head())\n",
    "print(df.tail())\n",
    "print(len(df))   # 每一隻股票的 length 會不一樣 （skip emtpy trade ) "
   ]
  },
  {
   "cell_type": "code",
   "execution_count": 6,
   "metadata": {},
   "outputs": [
    {
     "name": "stdout",
     "output_type": "stream",
     "text": [
      "[45.   44.8  44.55 44.8  45.   44.9  44.95 45.1  45.   44.85 44.8  44.85\n",
      " 44.8  44.85 44.9  44.95 44.95 44.95 44.95 44.85 44.85 44.85 44.85 44.85\n",
      " 44.9  44.9  44.85 44.8  44.8  44.75 44.8  44.75 44.8  44.75 44.75 44.75\n",
      " 44.7  44.6  44.6  44.45 44.55 44.5  44.55 44.55 44.55 44.6  44.6  44.65\n",
      " 44.7  44.65 44.65 44.7   0.   44.7  44.65 44.5  44.5   0.   44.5  44.5\n",
      " 44.45 44.5  44.5  44.45 44.5  44.45 44.45 44.45 44.45 44.5  44.45 44.45\n",
      " 44.5  44.5  44.45 44.45 44.5  44.7  44.75 44.75 44.75 44.65 44.65 44.65\n",
      " 44.65 44.7  44.75  0.   44.75 44.8  44.75 44.8  44.75 44.8  44.8  44.8\n",
      " 44.75  0.   44.75 44.75 44.8  44.95 45.   44.95 44.95 45.   45.05 45.\n",
      " 45.   45.   45.   45.    0.   44.95 45.   45.   44.95 44.95 45.   45.\n",
      " 44.95 45.   45.   45.   45.   45.   45.   45.   45.05 45.   44.95  0.\n",
      " 44.95  0.   44.95 44.95 44.95 45.    0.   44.95 45.   45.05 45.05 45.05\n",
      "  0.   45.1  45.05 45.05 45.05 45.05 45.05  0.   45.05 45.05 45.05 45.\n",
      "  0.    0.   45.    0.   45.   45.05 45.   45.05 45.05 45.05  0.   45.05\n",
      " 45.05 45.05 45.   45.05 45.   45.    0.   45.05  0.   45.05 45.   45.\n",
      " 45.   44.95 44.95 45.    0.   44.95 44.95 45.   44.9  44.9  44.8  44.85\n",
      "  0.    0.   44.85 44.85 44.9  44.9  44.9  44.95 45.    0.   45.   44.95\n",
      " 44.95 44.95  0.    0.   44.95 44.95  0.   45.   45.   44.95 45.   44.95\n",
      " 44.95 45.   44.95 44.95 44.95 45.    0.   44.95 45.   44.95 44.95 44.95\n",
      " 45.   44.95 44.95 44.95 45.   44.95 44.95 44.95 44.95 44.95 44.95 45.\n",
      " 45.   45.   45.05 45.05 45.1  45.1   0.   45.1  45.1  45.05 45.1  45.1\n",
      " 45.1  45.1  45.05 45.1  45.05 45.05 45.   45.   45.   45.05 45.1  45.1\n",
      " 45.05  0.    0.    0.    0.   45.05]\n",
      "270\n"
     ]
    },
    {
     "name": "stderr",
     "output_type": "stream",
     "text": [
      "/Users/mouyasushi/Desktop/sr8/setup/daily_bt.py:102: FutureWarning: 'T' is deprecated and will be removed in a future version, please use 'min' instead.\n",
      "  time_index = pd.date_range(start=trading_start, end=trading_end, freq='1T')\n",
      "/Users/mouyasushi/Desktop/sr8/setup/daily_bt.py:116: FutureWarning: A value is trying to be set on a copy of a DataFrame or Series through chained assignment using an inplace method.\n",
      "The behavior will change in pandas 3.0. This inplace method will never work because the intermediate object on which we are setting values always behaves as a copy.\n",
      "\n",
      "For example, when doing 'df[col].method(value, inplace=True)', try using 'df.method({col: value}, inplace=True)' or df[col] = df[col].method(value) instead, to perform the operation inplace on the original object.\n",
      "\n",
      "\n",
      "  data['Volume'].replace(0, np.nan, inplace=True)\n",
      "/Users/mouyasushi/Desktop/sr8/setup/daily_bt.py:118: FutureWarning: A value is trying to be set on a copy of a DataFrame or Series through chained assignment using an inplace method.\n",
      "The behavior will change in pandas 3.0. This inplace method will never work because the intermediate object on which we are setting values always behaves as a copy.\n",
      "\n",
      "For example, when doing 'df[col].method(value, inplace=True)', try using 'df.method({col: value}, inplace=True)' or df[col] = df[col].method(value) instead, to perform the operation inplace on the original object.\n",
      "\n",
      "\n",
      "  data['Volume'].fillna(0, inplace=True)\n",
      "/Users/mouyasushi/Desktop/sr8/setup/daily_bt.py:121: FutureWarning: A value is trying to be set on a copy of a DataFrame or Series through chained assignment using an inplace method.\n",
      "The behavior will change in pandas 3.0. This inplace method will never work because the intermediate object on which we are setting values always behaves as a copy.\n",
      "\n",
      "For example, when doing 'df[col].method(value, inplace=True)', try using 'df.method({col: value}, inplace=True)' or df[col] = df[col].method(value) instead, to perform the operation inplace on the original object.\n",
      "\n",
      "\n",
      "  data['MA'].fillna(method='ffill', inplace=True)\n",
      "/Users/mouyasushi/Desktop/sr8/setup/daily_bt.py:121: FutureWarning: Series.fillna with 'method' is deprecated and will raise in a future version. Use obj.ffill() or obj.bfill() instead.\n",
      "  data['MA'].fillna(method='ffill', inplace=True)\n",
      "/Users/mouyasushi/Desktop/sr8/setup/daily_bt.py:122: FutureWarning: A value is trying to be set on a copy of a DataFrame or Series through chained assignment using an inplace method.\n",
      "The behavior will change in pandas 3.0. This inplace method will never work because the intermediate object on which we are setting values always behaves as a copy.\n",
      "\n",
      "For example, when doing 'df[col].method(value, inplace=True)', try using 'df.method({col: value}, inplace=True)' or df[col] = df[col].method(value) instead, to perform the operation inplace on the original object.\n",
      "\n",
      "\n",
      "  data['VWAP'].fillna(method='ffill', inplace=True)\n",
      "/Users/mouyasushi/Desktop/sr8/setup/daily_bt.py:122: FutureWarning: Series.fillna with 'method' is deprecated and will raise in a future version. Use obj.ffill() or obj.bfill() instead.\n",
      "  data['VWAP'].fillna(method='ffill', inplace=True)\n"
     ]
    }
   ],
   "source": [
    "import warnings\n",
    "warnings.filterwarnings(\"ignore\", category=DeprecationWarning)\n",
    "np_data= construct_data(df, ma_period=14) # this is a dictioinary \n",
    "open_np = np_data['Open']\n",
    "print(open_np)\n",
    "print(len(open_np))\n"
   ]
  },
  {
   "cell_type": "code",
   "execution_count": 10,
   "metadata": {},
   "outputs": [
    {
     "data": {
      "text/plain": [
       "(array([100000, 100000, 100000, 100000, 100000,  99688,  99688,  99688,\n",
       "         99688,  99688,  99688,  99688,  99688,  99688,  99688,  99688,\n",
       "         99688,  99688,  99688,  99688,  99688,  99688,  99688,  99688,\n",
       "         99688,  99688,  99688,  99688,  99688,  99688,  99688,  99688,\n",
       "         99688,  99688,  99688,  99688,  99688,  99688,  99688,  99688,\n",
       "         99688,  99688,  99688,  99688,  99688,  99688,  99688,  99688,\n",
       "         99688,  99688,  99688,  99688,  99688,  99688,  99688,  99688,\n",
       "         99688,  99688,  99688,  99688,  99688,  99688,  99688,  99688,\n",
       "         99688,  99688,  99688,  99688,  99688,  99688,  99688,  99688,\n",
       "         99688,  99688,  99688,  99688,  99688,  99688,  99688,  99688,\n",
       "         99688,  99688,  99688,  99688,  99688,  99688,  99688,  99688,\n",
       "         99688,  99688,  99688,  99688,  99688,  99688,  99688,  99688,\n",
       "         99688,  99688,  99688,  99688,  99688,  99688,  99688,  99688,\n",
       "         99688,  99688,  99688,  99688,  99688,  99688,  99688,  99688,\n",
       "         99688,  99688,  99688,  99688,  99688,  99688,  99688,  99688,\n",
       "         99688,  99688,  99688,  99688,  99688,  99688,  99688,  99688,\n",
       "         99688,  99688,  99688,  99688,  99688,  99688,  99688,  99688,\n",
       "         99688,  99688,  99688,  99688,  99688,  99688,  99688,  99688,\n",
       "         99688,  99688,  99688,  99688,  99688,  99688,  99688,  99688,\n",
       "         99688,  99688,  99688,  99688,  99688,  99688,  99688,  99688,\n",
       "         99688,  99688,  99688,  99688,  99688,  99688,  99688,  99688,\n",
       "         99688,  99688,  99688,  99688,  99688,  99688,  99688,  99688,\n",
       "         99688,  99688,  99688,  99688,  99688,  99688,  99688,  99688,\n",
       "         99688,  99688,  99688,  99688,  99688,  99688,  99688,  99688,\n",
       "         99688,  99688,  99688,  99688,  99688,  99688,  99688,  99688,\n",
       "         99688,  99688,  99688,  99688,  99688,  99688,  99688,  99688,\n",
       "         99688,  99688,  99688,  99688,  99688,  99688,  99688,  99688,\n",
       "         99688,  99688,  99688,  99688,  99688,  99688,  99688,  99688,\n",
       "         99688,  99688,  99688,  99688,  99688,  99688,  99688,  99688,\n",
       "         99688,  99688,  99688,  99688,  99688,  99688,  99688,  99688,\n",
       "         99688,  99688,  99688,  99688,  99688,  99688,  99688,  99688,\n",
       "         99688,  99688,  99688,  99688,  99688,  99688,  99688,  99688,\n",
       "         99688,  99688,  99688,  99688,  99688,  99688,  99688,  99688,\n",
       "         99688,  99688,  99688,  99688,  99688,  99688]),\n",
       " 1)"
      ]
     },
     "execution_count": 10,
     "metadata": {},
     "output_type": "execute_result"
    }
   ],
   "source": [
    "\"\"\" \n",
    "execute_short_strategy(open_np, close_np, vwap_np, open_time_np, initial_cap, fee_rate, \n",
    "                         stop_loss_pct, threshold, entry_time_min, previous_day_last_close) --> equity, trade times\n",
    "\"\"\"\n",
    "\n",
    "equity = execute_short_strategy(\n",
    "    np_data['Open'],\n",
    "    np_data['Close'],\n",
    "    np_data['VWAP'],\n",
    "    np_data['open_time'],\n",
    "    initial_cap=100000,\n",
    "    fee_rate=0.001,\n",
    "    stop_loss_pct=0.04,\n",
    "    threshold=1.01,\n",
    "    entry_time_min=546,  # 9:06 AM\n",
    "    previous_day_last_close=30)\n",
    "\n",
    "equity"
   ]
  },
  {
   "cell_type": "code",
   "execution_count": 9,
   "metadata": {},
   "outputs": [
    {
     "ename": "ValueError",
     "evalue": "setting an array element with a sequence. The requested array has an inhomogeneous shape after 1 dimensions. The detected shape was (2,) + inhomogeneous part.",
     "output_type": "error",
     "traceback": [
      "\u001b[0;31m---------------------------------------------------------------------------\u001b[0m",
      "\u001b[0;31mValueError\u001b[0m                                Traceback (most recent call last)",
      "Cell \u001b[0;32mIn[9], line 1\u001b[0m\n\u001b[0;32m----> 1\u001b[0m result \u001b[38;5;241m=\u001b[39m \u001b[43mcalculate_daily_performance\u001b[49m\u001b[43m(\u001b[49m\u001b[43mequity\u001b[49m\u001b[43m,\u001b[49m\u001b[43m \u001b[49m\u001b[43mtrade_count\u001b[49m\u001b[38;5;241;43m=\u001b[39;49m\u001b[38;5;241;43m1\u001b[39;49m\u001b[43m)\u001b[49m\n\u001b[1;32m      2\u001b[0m \u001b[38;5;28mprint\u001b[39m(result)\n",
      "File \u001b[0;32m~/Desktop/sr8/setup/daily_bt.py:229\u001b[0m, in \u001b[0;36mcalculate_daily_performance\u001b[0;34m(equity, trade_count)\u001b[0m\n\u001b[1;32m    225\u001b[0m \u001b[38;5;28;01mdef\u001b[39;00m \u001b[38;5;21mcalculate_daily_performance\u001b[39m(equity: np\u001b[38;5;241m.\u001b[39mndarray, trade_count: \u001b[38;5;28mint\u001b[39m) \u001b[38;5;241m-\u001b[39m\u001b[38;5;241m>\u001b[39m \u001b[38;5;28mdict\u001b[39m:\n\u001b[1;32m    226\u001b[0m \u001b[38;5;250m    \u001b[39m\u001b[38;5;124;03m\"\"\"\u001b[39;00m\n\u001b[1;32m    227\u001b[0m \u001b[38;5;124;03m    Calculates daily performance metrics.\u001b[39;00m\n\u001b[1;32m    228\u001b[0m \u001b[38;5;124;03m    \"\"\"\u001b[39;00m\n\u001b[0;32m--> 229\u001b[0m     returns \u001b[38;5;241m=\u001b[39m \u001b[43mnp\u001b[49m\u001b[38;5;241;43m.\u001b[39;49m\u001b[43mdiff\u001b[49m\u001b[43m(\u001b[49m\u001b[43mequity\u001b[49m\u001b[43m)\u001b[49m \u001b[38;5;241m/\u001b[39m equity[:\u001b[38;5;241m-\u001b[39m\u001b[38;5;241m1\u001b[39m]\n\u001b[1;32m    230\u001b[0m     total_return \u001b[38;5;241m=\u001b[39m (equity[\u001b[38;5;241m-\u001b[39m\u001b[38;5;241m1\u001b[39m] \u001b[38;5;241m/\u001b[39m equity[\u001b[38;5;241m0\u001b[39m]) \u001b[38;5;241m-\u001b[39m \u001b[38;5;241m1\u001b[39m \u001b[38;5;28;01mif\u001b[39;00m equity[\u001b[38;5;241m0\u001b[39m] \u001b[38;5;241m!=\u001b[39m \u001b[38;5;241m0\u001b[39m \u001b[38;5;28;01melse\u001b[39;00m \u001b[38;5;241m0\u001b[39m\n\u001b[1;32m    232\u001b[0m     drawdowns \u001b[38;5;241m=\u001b[39m \u001b[38;5;241m1\u001b[39m \u001b[38;5;241m-\u001b[39m equity \u001b[38;5;241m/\u001b[39m np\u001b[38;5;241m.\u001b[39mmaximum\u001b[38;5;241m.\u001b[39maccumulate(equity)\n",
      "File \u001b[0;32m/opt/homebrew/lib/python3.12/site-packages/numpy/lib/function_base.py:1415\u001b[0m, in \u001b[0;36mdiff\u001b[0;34m(a, n, axis, prepend, append)\u001b[0m\n\u001b[1;32m   1411\u001b[0m \u001b[38;5;28;01mif\u001b[39;00m n \u001b[38;5;241m<\u001b[39m \u001b[38;5;241m0\u001b[39m:\n\u001b[1;32m   1412\u001b[0m     \u001b[38;5;28;01mraise\u001b[39;00m \u001b[38;5;167;01mValueError\u001b[39;00m(\n\u001b[1;32m   1413\u001b[0m         \u001b[38;5;124m\"\u001b[39m\u001b[38;5;124morder must be non-negative but got \u001b[39m\u001b[38;5;124m\"\u001b[39m \u001b[38;5;241m+\u001b[39m \u001b[38;5;28mrepr\u001b[39m(n))\n\u001b[0;32m-> 1415\u001b[0m a \u001b[38;5;241m=\u001b[39m \u001b[43masanyarray\u001b[49m\u001b[43m(\u001b[49m\u001b[43ma\u001b[49m\u001b[43m)\u001b[49m\n\u001b[1;32m   1416\u001b[0m nd \u001b[38;5;241m=\u001b[39m a\u001b[38;5;241m.\u001b[39mndim\n\u001b[1;32m   1417\u001b[0m \u001b[38;5;28;01mif\u001b[39;00m nd \u001b[38;5;241m==\u001b[39m \u001b[38;5;241m0\u001b[39m:\n",
      "\u001b[0;31mValueError\u001b[0m: setting an array element with a sequence. The requested array has an inhomogeneous shape after 1 dimensions. The detected shape was (2,) + inhomogeneous part."
     ]
    }
   ],
   "source": [
    "result = calculate_daily_performance(equity, trade_count=1)\n",
    "print(result)"
   ]
  },
  {
   "cell_type": "code",
   "execution_count": null,
   "metadata": {},
   "outputs": [],
   "source": []
  }
 ],
 "metadata": {
  "kernelspec": {
   "display_name": "Python 3",
   "language": "python",
   "name": "python3"
  },
  "language_info": {
   "codemirror_mode": {
    "name": "ipython",
    "version": 3
   },
   "file_extension": ".py",
   "mimetype": "text/x-python",
   "name": "python",
   "nbconvert_exporter": "python",
   "pygments_lexer": "ipython3",
   "version": "3.12.6"
  }
 },
 "nbformat": 4,
 "nbformat_minor": 2
}
