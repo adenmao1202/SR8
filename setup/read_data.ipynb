{
 "cells": [
  {
   "cell_type": "code",
   "execution_count": 1,
   "metadata": {},
   "outputs": [],
   "source": [
    "import pandas as pd\n",
    "import numpy as np\n",
    "import os\n",
    "import datetime"
   ]
  },
  {
   "cell_type": "code",
   "execution_count": 2,
   "metadata": {},
   "outputs": [
    {
     "name": "stdout",
     "output_type": "stream",
     "text": [
      "         index                stock_list\n",
      "0   2022-10-21                    [1717]\n",
      "1   2022-10-28              [6873, 1904]\n",
      "2   2022-11-03                    [2520]\n",
      "3   2022-11-04                    [6412]\n",
      "4   2022-11-09              [6188, 1409]\n",
      "..         ...                       ...\n",
      "154 2024-09-23                    [4919]\n",
      "155 2024-09-24                    [2634]\n",
      "156 2024-09-25                    [2606]\n",
      "157 2024-09-27                    [3260]\n",
      "158 2024-09-30  [6491, 8150, 9907, 6592]\n",
      "\n",
      "[159 rows x 2 columns]\n"
     ]
    }
   ],
   "source": [
    "data = pd.read_feather('target_stocks.feather')\n",
    "print(data)"
   ]
  },
  {
   "cell_type": "code",
   "execution_count": 3,
   "metadata": {},
   "outputs": [],
   "source": [
    "import pandas as pd\n",
    "import numpy as np\n",
    "from datetime import datetime\n",
    "from pathlib import Path\n",
    "import logging\n",
    "import yaml\n",
    "from daily_bt import (\n",
    "    load_config, \n",
    "    read_stock_data, \n",
    "    construct_data, \n",
    "    execute_short_strategy,\n",
    "    calculate_daily_performance,\n",
    "    backtest_single_stock,\n",
    "    backtest_multiple_stocks, \n",
    "    get_stocks_for_date, \n",
    "    main\n",
    ")\n"
   ]
  },
  {
   "cell_type": "code",
   "execution_count": 4,
   "metadata": {},
   "outputs": [],
   "source": [
    "config = load_config('config.yaml')"
   ]
  },
  {
   "cell_type": "code",
   "execution_count": 5,
   "metadata": {},
   "outputs": [
    {
     "name": "stdout",
     "output_type": "stream",
     "text": [
      "                      Open   High    Low  Close  Volume     Amount\n",
      "ts                                                                \n",
      "2023-11-16 09:01:00  45.00  45.05  44.80  44.80      80  3597900.0\n",
      "2023-11-16 09:02:00  44.80  44.80  44.50  44.55      88  3925600.0\n",
      "2023-11-16 09:03:00  44.55  44.75  44.55  44.75      77  3438750.0\n",
      "2023-11-16 09:04:00  44.80  44.95  44.80  44.95      41  1837950.0\n",
      "2023-11-16 09:05:00  45.00  45.00  44.90  44.90      14   629200.0\n",
      "                      Open   High    Low  Close  Volume     Amount\n",
      "ts                                                                \n",
      "2023-11-16 13:22:00  45.05  45.15  45.05  45.15      79  3562000.0\n",
      "2023-11-16 13:23:00  45.10  45.10  45.05  45.10      32  1443150.0\n",
      "2023-11-16 13:24:00  45.10  45.10  45.05  45.05       9   405500.0\n",
      "2023-11-16 13:25:00  45.05  45.10  45.00  45.00      39  1756200.0\n",
      "2023-11-16 13:30:00  45.05  45.05  45.05  45.05     190  8559500.0\n",
      "241\n"
     ]
    }
   ],
   "source": [
    "df= read_stock_data('2606', datetime.strptime('2023-11-16', '%Y-%m-%d'), '/Users/mouyasushi/k_data/永豐')\n",
    "print(df.head())\n",
    "print(df.tail())\n",
    "print(len(df))   # 每一隻股票的 length 會不一樣 （skip emtpy trade ) "
   ]
  },
  {
   "cell_type": "code",
   "execution_count": 6,
   "metadata": {},
   "outputs": [
    {
     "name": "stdout",
     "output_type": "stream",
     "text": [
      "[45.   44.8  44.55 44.8  45.   44.9  44.95 45.1  45.   44.85 44.8  44.85\n",
      " 44.8  44.85 44.9  44.95 44.95 44.95 44.95 44.85 44.85 44.85 44.85 44.85\n",
      " 44.9  44.9  44.85 44.8  44.8  44.75 44.8  44.75 44.8  44.75 44.75 44.75\n",
      " 44.7  44.6  44.6  44.45 44.55 44.5  44.55 44.55 44.55 44.6  44.6  44.65\n",
      " 44.7  44.65 44.65 44.7   0.   44.7  44.65 44.5  44.5   0.   44.5  44.5\n",
      " 44.45 44.5  44.5  44.45 44.5  44.45 44.45 44.45 44.45 44.5  44.45 44.45\n",
      " 44.5  44.5  44.45 44.45 44.5  44.7  44.75 44.75 44.75 44.65 44.65 44.65\n",
      " 44.65 44.7  44.75  0.   44.75 44.8  44.75 44.8  44.75 44.8  44.8  44.8\n",
      " 44.75  0.   44.75 44.75 44.8  44.95 45.   44.95 44.95 45.   45.05 45.\n",
      " 45.   45.   45.   45.    0.   44.95 45.   45.   44.95 44.95 45.   45.\n",
      " 44.95 45.   45.   45.   45.   45.   45.   45.   45.05 45.   44.95  0.\n",
      " 44.95  0.   44.95 44.95 44.95 45.    0.   44.95 45.   45.05 45.05 45.05\n",
      "  0.   45.1  45.05 45.05 45.05 45.05 45.05  0.   45.05 45.05 45.05 45.\n",
      "  0.    0.   45.    0.   45.   45.05 45.   45.05 45.05 45.05  0.   45.05\n",
      " 45.05 45.05 45.   45.05 45.   45.    0.   45.05  0.   45.05 45.   45.\n",
      " 45.   44.95 44.95 45.    0.   44.95 44.95 45.   44.9  44.9  44.8  44.85\n",
      "  0.    0.   44.85 44.85 44.9  44.9  44.9  44.95 45.    0.   45.   44.95\n",
      " 44.95 44.95  0.    0.   44.95 44.95  0.   45.   45.   44.95 45.   44.95\n",
      " 44.95 45.   44.95 44.95 44.95 45.    0.   44.95 45.   44.95 44.95 44.95\n",
      " 45.   44.95 44.95 44.95 45.   44.95 44.95 44.95 44.95 44.95 44.95 45.\n",
      " 45.   45.   45.05 45.05 45.1  45.1   0.   45.1  45.1  45.05 45.1  45.1\n",
      " 45.1  45.1  45.05 45.1  45.05 45.05 45.   45.   45.   45.05 45.1  45.1\n",
      " 45.05  0.    0.    0.    0.   45.05]\n",
      "270\n"
     ]
    },
    {
     "name": "stderr",
     "output_type": "stream",
     "text": [
      "/Users/mouyasushi/Desktop/sr8/setup/daily_bt.py:102: FutureWarning: 'T' is deprecated and will be removed in a future version, please use 'min' instead.\n",
      "  time_index = pd.date_range(start=trading_start, end=trading_end, freq='1T')\n",
      "/Users/mouyasushi/Desktop/sr8/setup/daily_bt.py:116: FutureWarning: A value is trying to be set on a copy of a DataFrame or Series through chained assignment using an inplace method.\n",
      "The behavior will change in pandas 3.0. This inplace method will never work because the intermediate object on which we are setting values always behaves as a copy.\n",
      "\n",
      "For example, when doing 'df[col].method(value, inplace=True)', try using 'df.method({col: value}, inplace=True)' or df[col] = df[col].method(value) instead, to perform the operation inplace on the original object.\n",
      "\n",
      "\n",
      "  data['Volume'].replace(0, np.nan, inplace=True)\n",
      "/Users/mouyasushi/Desktop/sr8/setup/daily_bt.py:118: FutureWarning: A value is trying to be set on a copy of a DataFrame or Series through chained assignment using an inplace method.\n",
      "The behavior will change in pandas 3.0. This inplace method will never work because the intermediate object on which we are setting values always behaves as a copy.\n",
      "\n",
      "For example, when doing 'df[col].method(value, inplace=True)', try using 'df.method({col: value}, inplace=True)' or df[col] = df[col].method(value) instead, to perform the operation inplace on the original object.\n",
      "\n",
      "\n",
      "  data['Volume'].fillna(0, inplace=True)\n",
      "/Users/mouyasushi/Desktop/sr8/setup/daily_bt.py:121: FutureWarning: A value is trying to be set on a copy of a DataFrame or Series through chained assignment using an inplace method.\n",
      "The behavior will change in pandas 3.0. This inplace method will never work because the intermediate object on which we are setting values always behaves as a copy.\n",
      "\n",
      "For example, when doing 'df[col].method(value, inplace=True)', try using 'df.method({col: value}, inplace=True)' or df[col] = df[col].method(value) instead, to perform the operation inplace on the original object.\n",
      "\n",
      "\n",
      "  data['MA'].fillna(method='ffill', inplace=True)\n",
      "/Users/mouyasushi/Desktop/sr8/setup/daily_bt.py:121: FutureWarning: Series.fillna with 'method' is deprecated and will raise in a future version. Use obj.ffill() or obj.bfill() instead.\n",
      "  data['MA'].fillna(method='ffill', inplace=True)\n",
      "/Users/mouyasushi/Desktop/sr8/setup/daily_bt.py:122: FutureWarning: A value is trying to be set on a copy of a DataFrame or Series through chained assignment using an inplace method.\n",
      "The behavior will change in pandas 3.0. This inplace method will never work because the intermediate object on which we are setting values always behaves as a copy.\n",
      "\n",
      "For example, when doing 'df[col].method(value, inplace=True)', try using 'df.method({col: value}, inplace=True)' or df[col] = df[col].method(value) instead, to perform the operation inplace on the original object.\n",
      "\n",
      "\n",
      "  data['VWAP'].fillna(method='ffill', inplace=True)\n",
      "/Users/mouyasushi/Desktop/sr8/setup/daily_bt.py:122: FutureWarning: Series.fillna with 'method' is deprecated and will raise in a future version. Use obj.ffill() or obj.bfill() instead.\n",
      "  data['VWAP'].fillna(method='ffill', inplace=True)\n"
     ]
    }
   ],
   "source": [
    "import warnings\n",
    "warnings.filterwarnings(\"ignore\", category=DeprecationWarning)\n",
    "np_data= construct_data(df, ma_period=14) # this is a dictioinary \n",
    "open_np = np_data['Open']\n",
    "print(open_np)\n",
    "print(len(open_np))\n"
   ]
  },
  {
   "cell_type": "code",
   "execution_count": 7,
   "metadata": {},
   "outputs": [
    {
     "data": {
      "text/plain": [
       "(array([100000, 100000, 100000, 100000, 100000,  99688,  99688,  99688,\n",
       "         99688,  99688,  99688,  99688,  99688,  99688,  99688,  99688,\n",
       "         99688,  99688,  99688,  99688,  99688,  99688,  99688,  99688,\n",
       "         99688,  99688,  99688,  99688,  99688,  99688,  99688,  99688,\n",
       "         99688,  99688,  99688,  99688,  99688,  99688,  99688,  99688,\n",
       "         99688,  99688,  99688,  99688,  99688,  99688,  99688,  99688,\n",
       "         99688,  99688,  99688,  99688,  99688,  99688,  99688,  99688,\n",
       "         99688,  99688,  99688,  99688,  99688,  99688,  99688,  99688,\n",
       "         99688,  99688,  99688,  99688,  99688,  99688,  99688,  99688,\n",
       "         99688,  99688,  99688,  99688,  99688,  99688,  99688,  99688,\n",
       "         99688,  99688,  99688,  99688,  99688,  99688,  99688,  99688,\n",
       "         99688,  99688,  99688,  99688,  99688,  99688,  99688,  99688,\n",
       "         99688,  99688,  99688,  99688,  99688,  99688,  99688,  99688,\n",
       "         99688,  99688,  99688,  99688,  99688,  99688,  99688,  99688,\n",
       "         99688,  99688,  99688,  99688,  99688,  99688,  99688,  99688,\n",
       "         99688,  99688,  99688,  99688,  99688,  99688,  99688,  99688,\n",
       "         99688,  99688,  99688,  99688,  99688,  99688,  99688,  99688,\n",
       "         99688,  99688,  99688,  99688,  99688,  99688,  99688,  99688,\n",
       "         99688,  99688,  99688,  99688,  99688,  99688,  99688,  99688,\n",
       "         99688,  99688,  99688,  99688,  99688,  99688,  99688,  99688,\n",
       "         99688,  99688,  99688,  99688,  99688,  99688,  99688,  99688,\n",
       "         99688,  99688,  99688,  99688,  99688,  99688,  99688,  99688,\n",
       "         99688,  99688,  99688,  99688,  99688,  99688,  99688,  99688,\n",
       "         99688,  99688,  99688,  99688,  99688,  99688,  99688,  99688,\n",
       "         99688,  99688,  99688,  99688,  99688,  99688,  99688,  99688,\n",
       "         99688,  99688,  99688,  99688,  99688,  99688,  99688,  99688,\n",
       "         99688,  99688,  99688,  99688,  99688,  99688,  99688,  99688,\n",
       "         99688,  99688,  99688,  99688,  99688,  99688,  99688,  99688,\n",
       "         99688,  99688,  99688,  99688,  99688,  99688,  99688,  99688,\n",
       "         99688,  99688,  99688,  99688,  99688,  99688,  99688,  99688,\n",
       "         99688,  99688,  99688,  99688,  99688,  99688,  99688,  99688,\n",
       "         99688,  99688,  99688,  99688,  99688,  99688,  99688,  99688,\n",
       "         99688,  99688,  99688,  99688,  99688,  99688,  99688,  99688,\n",
       "         99688,  99688,  99688,  99688,  99688,  99688]),\n",
       " 1)"
      ]
     },
     "execution_count": 7,
     "metadata": {},
     "output_type": "execute_result"
    }
   ],
   "source": [
    "\"\"\" \n",
    "execute_short_strategy(open_np, close_np, vwap_np, open_time_np, initial_cap, fee_rate, \n",
    "                         stop_loss_pct, threshold, entry_time_min, previous_day_last_close) --> equity, trade times\n",
    "\"\"\"\n",
    "\n",
    "equity = execute_short_strategy(\n",
    "    np_data['Open'],\n",
    "    np_data['Close'],\n",
    "    np_data['VWAP'],\n",
    "    np_data['open_time'],\n",
    "    initial_cap=100000,\n",
    "    fee_rate=0.001,\n",
    "    stop_loss_pct=0.04,\n",
    "    threshold=1.01,\n",
    "    entry_time_min=546,  # 9:06 AM\n",
    "    previous_day_last_close=30)\n",
    "\n",
    "equity"
   ]
  },
  {
   "cell_type": "code",
   "execution_count": 8,
   "metadata": {},
   "outputs": [
    {
     "data": {
      "text/plain": [
       "{'Total Trades': 1,\n",
       " 'Total Return': -0.0031200000000000117,\n",
       " 'Max Drawdown': 0.0031200000000000117,\n",
       " 'Win Rate': 0.0,\n",
       " 'Daily Volatility': 0.00018987584125087026}"
      ]
     },
     "execution_count": 8,
     "metadata": {},
     "output_type": "execute_result"
    }
   ],
   "source": [
    "calculate_daily_performance(equity[0], trade_count=equity[1]) "
   ]
  },
  {
   "cell_type": "code",
   "execution_count": 9,
   "metadata": {},
   "outputs": [
    {
     "data": {
      "text/html": [
       "<div>\n",
       "<style scoped>\n",
       "    .dataframe tbody tr th:only-of-type {\n",
       "        vertical-align: middle;\n",
       "    }\n",
       "\n",
       "    .dataframe tbody tr th {\n",
       "        vertical-align: top;\n",
       "    }\n",
       "\n",
       "    .dataframe thead th {\n",
       "        text-align: right;\n",
       "    }\n",
       "</style>\n",
       "<table border=\"1\" class=\"dataframe\">\n",
       "  <thead>\n",
       "    <tr style=\"text-align: right;\">\n",
       "      <th></th>\n",
       "      <th>index</th>\n",
       "      <th>stock_list</th>\n",
       "    </tr>\n",
       "  </thead>\n",
       "  <tbody>\n",
       "    <tr>\n",
       "      <th>0</th>\n",
       "      <td>2022-10-21</td>\n",
       "      <td>[1717]</td>\n",
       "    </tr>\n",
       "    <tr>\n",
       "      <th>1</th>\n",
       "      <td>2022-10-28</td>\n",
       "      <td>[6873, 1904]</td>\n",
       "    </tr>\n",
       "    <tr>\n",
       "      <th>2</th>\n",
       "      <td>2022-11-03</td>\n",
       "      <td>[2520]</td>\n",
       "    </tr>\n",
       "    <tr>\n",
       "      <th>3</th>\n",
       "      <td>2022-11-04</td>\n",
       "      <td>[6412]</td>\n",
       "    </tr>\n",
       "    <tr>\n",
       "      <th>4</th>\n",
       "      <td>2022-11-09</td>\n",
       "      <td>[6188, 1409]</td>\n",
       "    </tr>\n",
       "  </tbody>\n",
       "</table>\n",
       "</div>"
      ],
      "text/plain": [
       "       index    stock_list\n",
       "0 2022-10-21        [1717]\n",
       "1 2022-10-28  [6873, 1904]\n",
       "2 2022-11-03        [2520]\n",
       "3 2022-11-04        [6412]\n",
       "4 2022-11-09  [6188, 1409]"
      ]
     },
     "execution_count": 9,
     "metadata": {},
     "output_type": "execute_result"
    }
   ],
   "source": [
    "data.head()"
   ]
  },
  {
   "cell_type": "code",
   "execution_count": 10,
   "metadata": {},
   "outputs": [
    {
     "data": {
      "text/html": [
       "<div>\n",
       "<style scoped>\n",
       "    .dataframe tbody tr th:only-of-type {\n",
       "        vertical-align: middle;\n",
       "    }\n",
       "\n",
       "    .dataframe tbody tr th {\n",
       "        vertical-align: top;\n",
       "    }\n",
       "\n",
       "    .dataframe thead th {\n",
       "        text-align: right;\n",
       "    }\n",
       "</style>\n",
       "<table border=\"1\" class=\"dataframe\">\n",
       "  <thead>\n",
       "    <tr style=\"text-align: right;\">\n",
       "      <th></th>\n",
       "      <th>index</th>\n",
       "      <th>stock_list</th>\n",
       "    </tr>\n",
       "  </thead>\n",
       "  <tbody>\n",
       "    <tr>\n",
       "      <th>0</th>\n",
       "      <td>2022-10-21</td>\n",
       "      <td>[1717]</td>\n",
       "    </tr>\n",
       "    <tr>\n",
       "      <th>1</th>\n",
       "      <td>2022-10-28</td>\n",
       "      <td>[6873, 1904]</td>\n",
       "    </tr>\n",
       "    <tr>\n",
       "      <th>2</th>\n",
       "      <td>2022-11-03</td>\n",
       "      <td>[2520]</td>\n",
       "    </tr>\n",
       "    <tr>\n",
       "      <th>3</th>\n",
       "      <td>2022-11-04</td>\n",
       "      <td>[6412]</td>\n",
       "    </tr>\n",
       "    <tr>\n",
       "      <th>4</th>\n",
       "      <td>2022-11-09</td>\n",
       "      <td>[6188, 1409]</td>\n",
       "    </tr>\n",
       "    <tr>\n",
       "      <th>...</th>\n",
       "      <td>...</td>\n",
       "      <td>...</td>\n",
       "    </tr>\n",
       "    <tr>\n",
       "      <th>154</th>\n",
       "      <td>2024-09-23</td>\n",
       "      <td>[4919]</td>\n",
       "    </tr>\n",
       "    <tr>\n",
       "      <th>155</th>\n",
       "      <td>2024-09-24</td>\n",
       "      <td>[2634]</td>\n",
       "    </tr>\n",
       "    <tr>\n",
       "      <th>156</th>\n",
       "      <td>2024-09-25</td>\n",
       "      <td>[2606]</td>\n",
       "    </tr>\n",
       "    <tr>\n",
       "      <th>157</th>\n",
       "      <td>2024-09-27</td>\n",
       "      <td>[3260]</td>\n",
       "    </tr>\n",
       "    <tr>\n",
       "      <th>158</th>\n",
       "      <td>2024-09-30</td>\n",
       "      <td>[6491, 8150, 9907, 6592]</td>\n",
       "    </tr>\n",
       "  </tbody>\n",
       "</table>\n",
       "<p>159 rows × 2 columns</p>\n",
       "</div>"
      ],
      "text/plain": [
       "         index                stock_list\n",
       "0   2022-10-21                    [1717]\n",
       "1   2022-10-28              [6873, 1904]\n",
       "2   2022-11-03                    [2520]\n",
       "3   2022-11-04                    [6412]\n",
       "4   2022-11-09              [6188, 1409]\n",
       "..         ...                       ...\n",
       "154 2024-09-23                    [4919]\n",
       "155 2024-09-24                    [2634]\n",
       "156 2024-09-25                    [2606]\n",
       "157 2024-09-27                    [3260]\n",
       "158 2024-09-30  [6491, 8150, 9907, 6592]\n",
       "\n",
       "[159 rows x 2 columns]"
      ]
     },
     "execution_count": 10,
     "metadata": {},
     "output_type": "execute_result"
    }
   ],
   "source": [
    "data"
   ]
  },
  {
   "cell_type": "code",
   "execution_count": 11,
   "metadata": {},
   "outputs": [
    {
     "name": "stdout",
     "output_type": "stream",
     "text": [
      "<class 'pandas.core.series.Series'>\n",
      "<class 'pandas.core.series.Series'>\n",
      "<class 'numpy.ndarray'>\n",
      "<class 'str'>\n"
     ]
    }
   ],
   "source": [
    "print(type(data['index']))\n",
    "print(type(data['stock_list']))\n",
    "print(type(data['stock_list'][0]))\n",
    "print(type(data['stock_list'][0][0]))"
   ]
  },
  {
   "cell_type": "code",
   "execution_count": 12,
   "metadata": {},
   "outputs": [
    {
     "name": "stderr",
     "output_type": "stream",
     "text": [
      "2024-10-23 10:08:18,199 - INFO - [daily_bt.py:252] - get_stocks_for_date - Reading stock list from Feather file: target_stocks.feather\n",
      "2024-10-23 10:08:18,204 - INFO - [daily_bt.py:299] - get_stocks_for_date - Found 1 stocks for date 2022-10-21\n"
     ]
    },
    {
     "name": "stdout",
     "output_type": "stream",
     "text": [
      "Stocks for 2022-10-21: ['1717']\n"
     ]
    }
   ],
   "source": [
    "import logging\n",
    "\n",
    "logging.basicConfig(level=logging.DEBUG)\n",
    "\n",
    "\n",
    "from datetime import datetime\n",
    "\n",
    "date_to_check = datetime.strptime('2022-10-21', '%Y-%m-%d')\n",
    "stocks = get_stocks_for_date('target_stocks.feather', date_to_check)\n",
    "print(f\"Stocks for {date_to_check.date()}: {stocks}\")\n"
   ]
  },
  {
   "cell_type": "code",
   "execution_count": 13,
   "metadata": {},
   "outputs": [
    {
     "name": "stderr",
     "output_type": "stream",
     "text": [
      "2024-10-23 10:08:18,208 - INFO - [daily_bt.py:317] - backtest_single_stock - Running backtest for stock: 1717 on date: 2022-10-21\n",
      "/Users/mouyasushi/Desktop/sr8/setup/daily_bt.py:102: FutureWarning: 'T' is deprecated and will be removed in a future version, please use 'min' instead.\n",
      "  time_index = pd.date_range(start=trading_start, end=trading_end, freq='1T')\n",
      "/Users/mouyasushi/Desktop/sr8/setup/daily_bt.py:116: FutureWarning: A value is trying to be set on a copy of a DataFrame or Series through chained assignment using an inplace method.\n",
      "The behavior will change in pandas 3.0. This inplace method will never work because the intermediate object on which we are setting values always behaves as a copy.\n",
      "\n",
      "For example, when doing 'df[col].method(value, inplace=True)', try using 'df.method({col: value}, inplace=True)' or df[col] = df[col].method(value) instead, to perform the operation inplace on the original object.\n",
      "\n",
      "\n",
      "  data['Volume'].replace(0, np.nan, inplace=True)\n",
      "/Users/mouyasushi/Desktop/sr8/setup/daily_bt.py:118: FutureWarning: A value is trying to be set on a copy of a DataFrame or Series through chained assignment using an inplace method.\n",
      "The behavior will change in pandas 3.0. This inplace method will never work because the intermediate object on which we are setting values always behaves as a copy.\n",
      "\n",
      "For example, when doing 'df[col].method(value, inplace=True)', try using 'df.method({col: value}, inplace=True)' or df[col] = df[col].method(value) instead, to perform the operation inplace on the original object.\n",
      "\n",
      "\n",
      "  data['Volume'].fillna(0, inplace=True)\n",
      "/Users/mouyasushi/Desktop/sr8/setup/daily_bt.py:121: FutureWarning: A value is trying to be set on a copy of a DataFrame or Series through chained assignment using an inplace method.\n",
      "The behavior will change in pandas 3.0. This inplace method will never work because the intermediate object on which we are setting values always behaves as a copy.\n",
      "\n",
      "For example, when doing 'df[col].method(value, inplace=True)', try using 'df.method({col: value}, inplace=True)' or df[col] = df[col].method(value) instead, to perform the operation inplace on the original object.\n",
      "\n",
      "\n",
      "  data['MA'].fillna(method='ffill', inplace=True)\n",
      "/Users/mouyasushi/Desktop/sr8/setup/daily_bt.py:121: FutureWarning: Series.fillna with 'method' is deprecated and will raise in a future version. Use obj.ffill() or obj.bfill() instead.\n",
      "  data['MA'].fillna(method='ffill', inplace=True)\n",
      "/Users/mouyasushi/Desktop/sr8/setup/daily_bt.py:122: FutureWarning: A value is trying to be set on a copy of a DataFrame or Series through chained assignment using an inplace method.\n",
      "The behavior will change in pandas 3.0. This inplace method will never work because the intermediate object on which we are setting values always behaves as a copy.\n",
      "\n",
      "For example, when doing 'df[col].method(value, inplace=True)', try using 'df.method({col: value}, inplace=True)' or df[col] = df[col].method(value) instead, to perform the operation inplace on the original object.\n",
      "\n",
      "\n",
      "  data['VWAP'].fillna(method='ffill', inplace=True)\n",
      "/Users/mouyasushi/Desktop/sr8/setup/daily_bt.py:122: FutureWarning: Series.fillna with 'method' is deprecated and will raise in a future version. Use obj.ffill() or obj.bfill() instead.\n",
      "  data['VWAP'].fillna(method='ffill', inplace=True)\n"
     ]
    },
    {
     "data": {
      "text/plain": [
       "{'Total Trades': 0,\n",
       " 'Total Return': 0.0,\n",
       " 'Max Drawdown': 0.0,\n",
       " 'Win Rate': 0.0,\n",
       " 'Daily Volatility': 0.0,\n",
       " 'Stock': '1717',\n",
       " 'Date': datetime.date(2022, 10, 21)}"
      ]
     },
     "execution_count": 13,
     "metadata": {},
     "output_type": "execute_result"
    }
   ],
   "source": [
    "backtest_single_stock('1717', date_to_check, config)"
   ]
  },
  {
   "cell_type": "code",
   "execution_count": 14,
   "metadata": {},
   "outputs": [
    {
     "data": {
      "text/plain": [
       "['1717']"
      ]
     },
     "execution_count": 14,
     "metadata": {},
     "output_type": "execute_result"
    }
   ],
   "source": [
    "stocks"
   ]
  },
  {
   "cell_type": "code",
   "execution_count": 16,
   "metadata": {},
   "outputs": [
    {
     "name": "stderr",
     "output_type": "stream",
     "text": [
      "2024-10-23 10:08:24,411 - INFO - [daily_bt.py:317] - backtest_single_stock - Running backtest for stock: 1717 on date: 2022-10-21\n",
      "/Users/mouyasushi/Desktop/sr8/setup/daily_bt.py:102: FutureWarning: 'T' is deprecated and will be removed in a future version, please use 'min' instead.\n",
      "  time_index = pd.date_range(start=trading_start, end=trading_end, freq='1T')\n",
      "/Users/mouyasushi/Desktop/sr8/setup/daily_bt.py:116: FutureWarning: A value is trying to be set on a copy of a DataFrame or Series through chained assignment using an inplace method.\n",
      "The behavior will change in pandas 3.0. This inplace method will never work because the intermediate object on which we are setting values always behaves as a copy.\n",
      "\n",
      "For example, when doing 'df[col].method(value, inplace=True)', try using 'df.method({col: value}, inplace=True)' or df[col] = df[col].method(value) instead, to perform the operation inplace on the original object.\n",
      "\n",
      "\n",
      "  data['Volume'].replace(0, np.nan, inplace=True)\n",
      "/Users/mouyasushi/Desktop/sr8/setup/daily_bt.py:118: FutureWarning: A value is trying to be set on a copy of a DataFrame or Series through chained assignment using an inplace method.\n",
      "The behavior will change in pandas 3.0. This inplace method will never work because the intermediate object on which we are setting values always behaves as a copy.\n",
      "\n",
      "For example, when doing 'df[col].method(value, inplace=True)', try using 'df.method({col: value}, inplace=True)' or df[col] = df[col].method(value) instead, to perform the operation inplace on the original object.\n",
      "\n",
      "\n",
      "  data['Volume'].fillna(0, inplace=True)\n",
      "/Users/mouyasushi/Desktop/sr8/setup/daily_bt.py:121: FutureWarning: A value is trying to be set on a copy of a DataFrame or Series through chained assignment using an inplace method.\n",
      "The behavior will change in pandas 3.0. This inplace method will never work because the intermediate object on which we are setting values always behaves as a copy.\n",
      "\n",
      "For example, when doing 'df[col].method(value, inplace=True)', try using 'df.method({col: value}, inplace=True)' or df[col] = df[col].method(value) instead, to perform the operation inplace on the original object.\n",
      "\n",
      "\n",
      "  data['MA'].fillna(method='ffill', inplace=True)\n",
      "/Users/mouyasushi/Desktop/sr8/setup/daily_bt.py:121: FutureWarning: Series.fillna with 'method' is deprecated and will raise in a future version. Use obj.ffill() or obj.bfill() instead.\n",
      "  data['MA'].fillna(method='ffill', inplace=True)\n",
      "/Users/mouyasushi/Desktop/sr8/setup/daily_bt.py:122: FutureWarning: A value is trying to be set on a copy of a DataFrame or Series through chained assignment using an inplace method.\n",
      "The behavior will change in pandas 3.0. This inplace method will never work because the intermediate object on which we are setting values always behaves as a copy.\n",
      "\n",
      "For example, when doing 'df[col].method(value, inplace=True)', try using 'df.method({col: value}, inplace=True)' or df[col] = df[col].method(value) instead, to perform the operation inplace on the original object.\n",
      "\n",
      "\n",
      "  data['VWAP'].fillna(method='ffill', inplace=True)\n",
      "/Users/mouyasushi/Desktop/sr8/setup/daily_bt.py:122: FutureWarning: Series.fillna with 'method' is deprecated and will raise in a future version. Use obj.ffill() or obj.bfill() instead.\n",
      "  data['VWAP'].fillna(method='ffill', inplace=True)\n"
     ]
    },
    {
     "data": {
      "text/plain": [
       "[{'Total Trades': 0,\n",
       "  'Total Return': 0.0,\n",
       "  'Max Drawdown': 0.0,\n",
       "  'Win Rate': 0.0,\n",
       "  'Daily Volatility': 0.0,\n",
       "  'Stock': '1717',\n",
       "  'Date': datetime.date(2022, 10, 21)}]"
      ]
     },
     "execution_count": 16,
     "metadata": {},
     "output_type": "execute_result"
    }
   ],
   "source": [
    "backtest_multiple_stocks(stocks, date_to_check, config)"
   ]
  },
  {
   "cell_type": "code",
   "execution_count": 17,
   "metadata": {},
   "outputs": [
    {
     "name": "stderr",
     "output_type": "stream",
     "text": [
      "2024-10-23 10:08:49,927 - INFO - [daily_bt.py:252] - get_stocks_for_date - Reading stock list from Feather file: target_stocks.feather\n",
      "2024-10-23 10:08:49,935 - INFO - [daily_bt.py:299] - get_stocks_for_date - Found 1 stocks for date 2022-10-21\n",
      "2024-10-23 10:08:50,390 - INFO - [daily_bt.py:317] - backtest_single_stock - Running backtest for stock: 1717 on date: 2022-10-21\n",
      "/Users/mouyasushi/Desktop/sr8/setup/daily_bt.py:102: FutureWarning: 'T' is deprecated and will be removed in a future version, please use 'min' instead.\n",
      "  time_index = pd.date_range(start=trading_start, end=trading_end, freq='1T')\n",
      "/Users/mouyasushi/Desktop/sr8/setup/daily_bt.py:116: FutureWarning: A value is trying to be set on a copy of a DataFrame or Series through chained assignment using an inplace method.\n",
      "The behavior will change in pandas 3.0. This inplace method will never work because the intermediate object on which we are setting values always behaves as a copy.\n",
      "\n",
      "For example, when doing 'df[col].method(value, inplace=True)', try using 'df.method({col: value}, inplace=True)' or df[col] = df[col].method(value) instead, to perform the operation inplace on the original object.\n",
      "\n",
      "\n",
      "  data['Volume'].replace(0, np.nan, inplace=True)\n",
      "/Users/mouyasushi/Desktop/sr8/setup/daily_bt.py:118: FutureWarning: A value is trying to be set on a copy of a DataFrame or Series through chained assignment using an inplace method.\n",
      "The behavior will change in pandas 3.0. This inplace method will never work because the intermediate object on which we are setting values always behaves as a copy.\n",
      "\n",
      "For example, when doing 'df[col].method(value, inplace=True)', try using 'df.method({col: value}, inplace=True)' or df[col] = df[col].method(value) instead, to perform the operation inplace on the original object.\n",
      "\n",
      "\n",
      "  data['Volume'].fillna(0, inplace=True)\n",
      "/Users/mouyasushi/Desktop/sr8/setup/daily_bt.py:121: FutureWarning: A value is trying to be set on a copy of a DataFrame or Series through chained assignment using an inplace method.\n",
      "The behavior will change in pandas 3.0. This inplace method will never work because the intermediate object on which we are setting values always behaves as a copy.\n",
      "\n",
      "For example, when doing 'df[col].method(value, inplace=True)', try using 'df.method({col: value}, inplace=True)' or df[col] = df[col].method(value) instead, to perform the operation inplace on the original object.\n",
      "\n",
      "\n",
      "  data['MA'].fillna(method='ffill', inplace=True)\n",
      "/Users/mouyasushi/Desktop/sr8/setup/daily_bt.py:121: FutureWarning: Series.fillna with 'method' is deprecated and will raise in a future version. Use obj.ffill() or obj.bfill() instead.\n",
      "  data['MA'].fillna(method='ffill', inplace=True)\n",
      "/Users/mouyasushi/Desktop/sr8/setup/daily_bt.py:122: FutureWarning: A value is trying to be set on a copy of a DataFrame or Series through chained assignment using an inplace method.\n",
      "The behavior will change in pandas 3.0. This inplace method will never work because the intermediate object on which we are setting values always behaves as a copy.\n",
      "\n",
      "For example, when doing 'df[col].method(value, inplace=True)', try using 'df.method({col: value}, inplace=True)' or df[col] = df[col].method(value) instead, to perform the operation inplace on the original object.\n",
      "\n",
      "\n",
      "  data['VWAP'].fillna(method='ffill', inplace=True)\n",
      "/Users/mouyasushi/Desktop/sr8/setup/daily_bt.py:122: FutureWarning: Series.fillna with 'method' is deprecated and will raise in a future version. Use obj.ffill() or obj.bfill() instead.\n",
      "  data['VWAP'].fillna(method='ffill', inplace=True)\n",
      "2024-10-23 10:08:50,597 - INFO - [daily_bt.py:408] - main - \n",
      "Backtesting Results:\n",
      "2024-10-23 10:08:50,597 - INFO - [daily_bt.py:410] - main - Total stocks tested: 1\n",
      "2024-10-23 10:08:50,598 - INFO - [daily_bt.py:411] - main - Average return: 0.00%\n",
      "2024-10-23 10:08:50,598 - INFO - [daily_bt.py:412] - main - Average max drawdown: 0.00%\n",
      "2024-10-23 10:08:50,598 - INFO - [daily_bt.py:413] - main - Results saved to /Users/mouyasushi/Desktop/sr8_op_file/backtest_results_2022-10-21.csv\n"
     ]
    }
   ],
   "source": [
    "main('config.yaml', '2022-10-21', 'target_stocks.feather')"
   ]
  },
  {
   "cell_type": "code",
   "execution_count": null,
   "metadata": {},
   "outputs": [],
   "source": []
  }
 ],
 "metadata": {
  "kernelspec": {
   "display_name": "Python 3",
   "language": "python",
   "name": "python3"
  },
  "language_info": {
   "codemirror_mode": {
    "name": "ipython",
    "version": 3
   },
   "file_extension": ".py",
   "mimetype": "text/x-python",
   "name": "python",
   "nbconvert_exporter": "python",
   "pygments_lexer": "ipython3",
   "version": "3.12.6"
  }
 },
 "nbformat": 4,
 "nbformat_minor": 2
}
