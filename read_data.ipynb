{
 "cells": [
  {
   "cell_type": "code",
   "execution_count": 1,
   "metadata": {},
   "outputs": [],
   "source": [
    "import pandas as pd\n",
    "import numpy as np \n",
    "import pyarrow"
   ]
  },
  {
   "cell_type": "code",
   "execution_count": 3,
   "metadata": {},
   "outputs": [
    {
     "name": "stdout",
     "output_type": "stream",
     "text": [
      "                   ts   Open   High    Low  Close  Volume     Amount\n",
      "0 2021-10-14 09:01:00  27.60  27.65  27.50  27.55    52.0  1434950.0\n",
      "1 2021-10-14 09:02:00  27.65  27.80  27.60  27.80    15.0   415750.0\n",
      "2 2021-10-14 09:03:00  27.80  28.05  27.75  28.05    36.0  1003550.0\n",
      "3 2021-10-14 09:04:00  28.10  28.35  28.10  28.35    52.0  1470300.0\n",
      "4 2021-10-14 09:05:00  28.35  28.35  28.20  28.20    31.0   877700.0\n"
     ]
    }
   ],
   "source": [
    "import pandas as pd\n",
    "\n",
    "df = pd.read_feather('6139.feather')\n",
    "print(df.head())\n"
   ]
  },
  {
   "cell_type": "code",
   "execution_count": null,
   "metadata": {},
   "outputs": [],
   "source": []
  }
 ],
 "metadata": {
  "kernelspec": {
   "display_name": "Python 3",
   "language": "python",
   "name": "python3"
  },
  "language_info": {
   "codemirror_mode": {
    "name": "ipython",
    "version": 3
   },
   "file_extension": ".py",
   "mimetype": "text/x-python",
   "name": "python",
   "nbconvert_exporter": "python",
   "pygments_lexer": "ipython3",
   "version": "3.12.6"
  }
 },
 "nbformat": 4,
 "nbformat_minor": 2
}
